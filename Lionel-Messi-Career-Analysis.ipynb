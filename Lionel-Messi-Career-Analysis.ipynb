{
 "cells": [
  {
   "cell_type": "markdown",
   "metadata": {},
   "source": [
    "# Lionel Messi Career Analysis"
   ]
  },
  {
   "cell_type": "markdown",
   "metadata": {},
   "source": [
    "---"
   ]
  },
  {
   "cell_type": "markdown",
   "metadata": {},
   "source": [
    "Ever since enrolling himself at FC Barcelona youth academy, La Masia, at age 13, Lionel Messi has been a one-club-man. Having been offered a contract on a paper napkin, it is no doubt that FC Barcelona has made Leo the GOAT we all know and admire.\n",
    "\n",
    "However, after 16 years at FC Barcelona, it has recently become quite clear that Leo is dissatisfied at FCB and has also expressed a desire to transfer to another club. With clashes and conflicts not only with the Spanish government but also with higher authorites and team management at the club, as well as differences in interests with teammates, it would not be a surprise if we do not see Leo in the famous red and blue of FC Barcelona next season.\n",
    "\n",
    "With this news in mind, I deceided to carry out a data science project to analyse and take a look at La Pulga's FC Barcelona career through numbers and statistics. In this notebook, I will be analysing a number of football datasets available to get a deeper insight into Lionel Messi's footballing career at FC Barcelona.\n",
    "\n",
    "Furthermore, it would be fun to see which club would be the next best destination for Leo to continue his professional football career."
   ]
  },
  {
   "cell_type": "markdown",
   "metadata": {},
   "source": [
    "![Lionel Messi approves!](Images/lionel_messi.jpg)"
   ]
  },
  {
   "cell_type": "markdown",
   "metadata": {},
   "source": [
    "---"
   ]
  },
  {
   "cell_type": "markdown",
   "metadata": {},
   "source": [
    "## Exploratory Data Analysis (EDA)"
   ]
  },
  {
   "cell_type": "markdown",
   "metadata": {},
   "source": [
    "I have first performed an Exploratory Data Analysis to compute various crucial statistics such as average goals per game. For this, I have used the Football Events Dataset available [here](https://www.kaggle.com/secareanualin/football-events)."
   ]
  },
  {
   "cell_type": "markdown",
   "metadata": {},
   "source": [
    "### Importing required libraries"
   ]
  },
  {
   "cell_type": "code",
   "execution_count": 1,
   "metadata": {},
   "outputs": [],
   "source": [
    "import numpy as np\n",
    "import pandas as pd\n",
    "import matplotlib.pyplot as plt\n",
    "import warnings\n",
    "warnings.filterwarnings(\"ignore\")"
   ]
  },
  {
   "cell_type": "markdown",
   "metadata": {},
   "source": [
    "### Loading and pre-processing datasets"
   ]
  },
  {
   "cell_type": "markdown",
   "metadata": {},
   "source": [
    "#### Events Dataset"
   ]
  },
  {
   "attachments": {},
   "cell_type": "markdown",
   "metadata": {},
   "source": [
    "The dataset provides a granular view of **9,074 games**, totaling **941,009 events** from the biggest 5 European football leagues: Bundesliga (Germany), La Liga (Spain), Ligue 1 (France), Premier League (England) and Serie A (Italy) from the **2011/2012** season to the **2016/2017** season.\n",
    "\n",
    "Let's read this dataset and call the *.info()* function to see detailed information about the dataset, including column names and datatypes."
   ]
  },
  {
   "cell_type": "code",
   "execution_count": 2,
   "metadata": {},
   "outputs": [
    {
     "name": "stdout",
     "output_type": "stream",
     "text": [
      "<class 'pandas.core.frame.DataFrame'>\n",
      "RangeIndex: 941009 entries, 0 to 941008\n",
      "Data columns (total 22 columns):\n",
      "id_odsp          941009 non-null object\n",
      "id_event         941009 non-null object\n",
      "sort_order       941009 non-null int64\n",
      "time             941009 non-null int64\n",
      "text             941009 non-null object\n",
      "event_type       941009 non-null int64\n",
      "event_type2      214293 non-null float64\n",
      "side             941009 non-null int64\n",
      "event_team       941009 non-null object\n",
      "opponent         941009 non-null object\n",
      "player           880009 non-null object\n",
      "player2          291310 non-null object\n",
      "player_in        51715 non-null object\n",
      "player_out       51738 non-null object\n",
      "shot_place       227459 non-null float64\n",
      "shot_outcome     228498 non-null float64\n",
      "is_goal          941009 non-null int64\n",
      "location         467067 non-null float64\n",
      "bodypart         229185 non-null float64\n",
      "assist_method    941009 non-null int64\n",
      "situation        229137 non-null float64\n",
      "fast_break       941009 non-null int64\n",
      "dtypes: float64(6), int64(7), object(9)\n",
      "memory usage: 157.9+ MB\n"
     ]
    }
   ],
   "source": [
    "events = pd.read_csv(\"Data/events.csv\")\n",
    "events.info()"
   ]
  },
  {
   "cell_type": "markdown",
   "metadata": {},
   "source": [
    "The dataset consists of **22 columns** describing various elements related to a football event, such as the player involved and opponent team."
   ]
  },
  {
   "cell_type": "code",
   "execution_count": 3,
   "metadata": {
    "scrolled": false
   },
   "outputs": [
    {
     "data": {
      "text/html": [
       "<div>\n",
       "<style scoped>\n",
       "    .dataframe tbody tr th:only-of-type {\n",
       "        vertical-align: middle;\n",
       "    }\n",
       "\n",
       "    .dataframe tbody tr th {\n",
       "        vertical-align: top;\n",
       "    }\n",
       "\n",
       "    .dataframe thead th {\n",
       "        text-align: right;\n",
       "    }\n",
       "</style>\n",
       "<table border=\"1\" class=\"dataframe\">\n",
       "  <thead>\n",
       "    <tr style=\"text-align: right;\">\n",
       "      <th></th>\n",
       "      <th>id_odsp</th>\n",
       "      <th>id_event</th>\n",
       "      <th>sort_order</th>\n",
       "      <th>time</th>\n",
       "      <th>text</th>\n",
       "      <th>event_type</th>\n",
       "      <th>event_type2</th>\n",
       "      <th>side</th>\n",
       "      <th>event_team</th>\n",
       "      <th>opponent</th>\n",
       "      <th>...</th>\n",
       "      <th>player_in</th>\n",
       "      <th>player_out</th>\n",
       "      <th>shot_place</th>\n",
       "      <th>shot_outcome</th>\n",
       "      <th>is_goal</th>\n",
       "      <th>location</th>\n",
       "      <th>bodypart</th>\n",
       "      <th>assist_method</th>\n",
       "      <th>situation</th>\n",
       "      <th>fast_break</th>\n",
       "    </tr>\n",
       "  </thead>\n",
       "  <tbody>\n",
       "    <tr>\n",
       "      <th>0</th>\n",
       "      <td>UFot0hit/</td>\n",
       "      <td>UFot0hit1</td>\n",
       "      <td>1</td>\n",
       "      <td>2</td>\n",
       "      <td>Attempt missed. Mladen Petric (Hamburg) left f...</td>\n",
       "      <td>1</td>\n",
       "      <td>12.0</td>\n",
       "      <td>2</td>\n",
       "      <td>Hamburg SV</td>\n",
       "      <td>Borussia Dortmund</td>\n",
       "      <td>...</td>\n",
       "      <td>NaN</td>\n",
       "      <td>NaN</td>\n",
       "      <td>6.0</td>\n",
       "      <td>2.0</td>\n",
       "      <td>0</td>\n",
       "      <td>9.0</td>\n",
       "      <td>2.0</td>\n",
       "      <td>1</td>\n",
       "      <td>1.0</td>\n",
       "      <td>0</td>\n",
       "    </tr>\n",
       "    <tr>\n",
       "      <th>1</th>\n",
       "      <td>UFot0hit/</td>\n",
       "      <td>UFot0hit2</td>\n",
       "      <td>2</td>\n",
       "      <td>4</td>\n",
       "      <td>Corner,  Borussia Dortmund. Conceded by Dennis...</td>\n",
       "      <td>2</td>\n",
       "      <td>NaN</td>\n",
       "      <td>1</td>\n",
       "      <td>Borussia Dortmund</td>\n",
       "      <td>Hamburg SV</td>\n",
       "      <td>...</td>\n",
       "      <td>NaN</td>\n",
       "      <td>NaN</td>\n",
       "      <td>NaN</td>\n",
       "      <td>NaN</td>\n",
       "      <td>0</td>\n",
       "      <td>NaN</td>\n",
       "      <td>NaN</td>\n",
       "      <td>0</td>\n",
       "      <td>NaN</td>\n",
       "      <td>0</td>\n",
       "    </tr>\n",
       "    <tr>\n",
       "      <th>2</th>\n",
       "      <td>UFot0hit/</td>\n",
       "      <td>UFot0hit3</td>\n",
       "      <td>3</td>\n",
       "      <td>4</td>\n",
       "      <td>Corner,  Borussia Dortmund. Conceded by Heiko ...</td>\n",
       "      <td>2</td>\n",
       "      <td>NaN</td>\n",
       "      <td>1</td>\n",
       "      <td>Borussia Dortmund</td>\n",
       "      <td>Hamburg SV</td>\n",
       "      <td>...</td>\n",
       "      <td>NaN</td>\n",
       "      <td>NaN</td>\n",
       "      <td>NaN</td>\n",
       "      <td>NaN</td>\n",
       "      <td>0</td>\n",
       "      <td>NaN</td>\n",
       "      <td>NaN</td>\n",
       "      <td>0</td>\n",
       "      <td>NaN</td>\n",
       "      <td>0</td>\n",
       "    </tr>\n",
       "    <tr>\n",
       "      <th>3</th>\n",
       "      <td>UFot0hit/</td>\n",
       "      <td>UFot0hit4</td>\n",
       "      <td>4</td>\n",
       "      <td>7</td>\n",
       "      <td>Foul by Sven Bender (Borussia Dortmund).</td>\n",
       "      <td>3</td>\n",
       "      <td>NaN</td>\n",
       "      <td>1</td>\n",
       "      <td>Borussia Dortmund</td>\n",
       "      <td>Hamburg SV</td>\n",
       "      <td>...</td>\n",
       "      <td>NaN</td>\n",
       "      <td>NaN</td>\n",
       "      <td>NaN</td>\n",
       "      <td>NaN</td>\n",
       "      <td>0</td>\n",
       "      <td>NaN</td>\n",
       "      <td>NaN</td>\n",
       "      <td>0</td>\n",
       "      <td>NaN</td>\n",
       "      <td>0</td>\n",
       "    </tr>\n",
       "    <tr>\n",
       "      <th>4</th>\n",
       "      <td>UFot0hit/</td>\n",
       "      <td>UFot0hit5</td>\n",
       "      <td>5</td>\n",
       "      <td>7</td>\n",
       "      <td>Gokhan Tore (Hamburg) wins a free kick in the ...</td>\n",
       "      <td>8</td>\n",
       "      <td>NaN</td>\n",
       "      <td>2</td>\n",
       "      <td>Hamburg SV</td>\n",
       "      <td>Borussia Dortmund</td>\n",
       "      <td>...</td>\n",
       "      <td>NaN</td>\n",
       "      <td>NaN</td>\n",
       "      <td>NaN</td>\n",
       "      <td>NaN</td>\n",
       "      <td>0</td>\n",
       "      <td>2.0</td>\n",
       "      <td>NaN</td>\n",
       "      <td>0</td>\n",
       "      <td>NaN</td>\n",
       "      <td>0</td>\n",
       "    </tr>\n",
       "    <tr>\n",
       "      <th>5</th>\n",
       "      <td>UFot0hit/</td>\n",
       "      <td>UFot0hit6</td>\n",
       "      <td>6</td>\n",
       "      <td>9</td>\n",
       "      <td>Hand ball by Jose Paolo Guerrero (Hamburg).</td>\n",
       "      <td>10</td>\n",
       "      <td>NaN</td>\n",
       "      <td>2</td>\n",
       "      <td>Hamburg SV</td>\n",
       "      <td>Borussia Dortmund</td>\n",
       "      <td>...</td>\n",
       "      <td>NaN</td>\n",
       "      <td>NaN</td>\n",
       "      <td>NaN</td>\n",
       "      <td>NaN</td>\n",
       "      <td>0</td>\n",
       "      <td>NaN</td>\n",
       "      <td>NaN</td>\n",
       "      <td>0</td>\n",
       "      <td>NaN</td>\n",
       "      <td>0</td>\n",
       "    </tr>\n",
       "    <tr>\n",
       "      <th>6</th>\n",
       "      <td>UFot0hit/</td>\n",
       "      <td>UFot0hit7</td>\n",
       "      <td>7</td>\n",
       "      <td>10</td>\n",
       "      <td>Corner,  Hamburg. Conceded by Lukasz Piszczek.</td>\n",
       "      <td>2</td>\n",
       "      <td>NaN</td>\n",
       "      <td>2</td>\n",
       "      <td>Hamburg SV</td>\n",
       "      <td>Borussia Dortmund</td>\n",
       "      <td>...</td>\n",
       "      <td>NaN</td>\n",
       "      <td>NaN</td>\n",
       "      <td>NaN</td>\n",
       "      <td>NaN</td>\n",
       "      <td>0</td>\n",
       "      <td>NaN</td>\n",
       "      <td>NaN</td>\n",
       "      <td>0</td>\n",
       "      <td>NaN</td>\n",
       "      <td>0</td>\n",
       "    </tr>\n",
       "    <tr>\n",
       "      <th>7</th>\n",
       "      <td>UFot0hit/</td>\n",
       "      <td>UFot0hit8</td>\n",
       "      <td>8</td>\n",
       "      <td>11</td>\n",
       "      <td>Chris Lowe (Borussia Dortmund) wins a free kic...</td>\n",
       "      <td>8</td>\n",
       "      <td>NaN</td>\n",
       "      <td>1</td>\n",
       "      <td>Borussia Dortmund</td>\n",
       "      <td>Hamburg SV</td>\n",
       "      <td>...</td>\n",
       "      <td>NaN</td>\n",
       "      <td>NaN</td>\n",
       "      <td>NaN</td>\n",
       "      <td>NaN</td>\n",
       "      <td>0</td>\n",
       "      <td>2.0</td>\n",
       "      <td>NaN</td>\n",
       "      <td>0</td>\n",
       "      <td>NaN</td>\n",
       "      <td>0</td>\n",
       "    </tr>\n",
       "    <tr>\n",
       "      <th>8</th>\n",
       "      <td>UFot0hit/</td>\n",
       "      <td>UFot0hit9</td>\n",
       "      <td>9</td>\n",
       "      <td>11</td>\n",
       "      <td>Foul by Gojko Kacar (Hamburg).</td>\n",
       "      <td>3</td>\n",
       "      <td>NaN</td>\n",
       "      <td>2</td>\n",
       "      <td>Hamburg SV</td>\n",
       "      <td>Borussia Dortmund</td>\n",
       "      <td>...</td>\n",
       "      <td>NaN</td>\n",
       "      <td>NaN</td>\n",
       "      <td>NaN</td>\n",
       "      <td>NaN</td>\n",
       "      <td>0</td>\n",
       "      <td>NaN</td>\n",
       "      <td>NaN</td>\n",
       "      <td>0</td>\n",
       "      <td>NaN</td>\n",
       "      <td>0</td>\n",
       "    </tr>\n",
       "    <tr>\n",
       "      <th>9</th>\n",
       "      <td>UFot0hit/</td>\n",
       "      <td>UFot0hit10</td>\n",
       "      <td>10</td>\n",
       "      <td>13</td>\n",
       "      <td>Foul by Gokhan Tore (Hamburg).</td>\n",
       "      <td>3</td>\n",
       "      <td>NaN</td>\n",
       "      <td>2</td>\n",
       "      <td>Hamburg SV</td>\n",
       "      <td>Borussia Dortmund</td>\n",
       "      <td>...</td>\n",
       "      <td>NaN</td>\n",
       "      <td>NaN</td>\n",
       "      <td>NaN</td>\n",
       "      <td>NaN</td>\n",
       "      <td>0</td>\n",
       "      <td>NaN</td>\n",
       "      <td>NaN</td>\n",
       "      <td>0</td>\n",
       "      <td>NaN</td>\n",
       "      <td>0</td>\n",
       "    </tr>\n",
       "  </tbody>\n",
       "</table>\n",
       "<p>10 rows × 22 columns</p>\n",
       "</div>"
      ],
      "text/plain": [
       "     id_odsp    id_event  sort_order  time  \\\n",
       "0  UFot0hit/   UFot0hit1           1     2   \n",
       "1  UFot0hit/   UFot0hit2           2     4   \n",
       "2  UFot0hit/   UFot0hit3           3     4   \n",
       "3  UFot0hit/   UFot0hit4           4     7   \n",
       "4  UFot0hit/   UFot0hit5           5     7   \n",
       "5  UFot0hit/   UFot0hit6           6     9   \n",
       "6  UFot0hit/   UFot0hit7           7    10   \n",
       "7  UFot0hit/   UFot0hit8           8    11   \n",
       "8  UFot0hit/   UFot0hit9           9    11   \n",
       "9  UFot0hit/  UFot0hit10          10    13   \n",
       "\n",
       "                                                text  event_type  event_type2  \\\n",
       "0  Attempt missed. Mladen Petric (Hamburg) left f...           1         12.0   \n",
       "1  Corner,  Borussia Dortmund. Conceded by Dennis...           2          NaN   \n",
       "2  Corner,  Borussia Dortmund. Conceded by Heiko ...           2          NaN   \n",
       "3           Foul by Sven Bender (Borussia Dortmund).           3          NaN   \n",
       "4  Gokhan Tore (Hamburg) wins a free kick in the ...           8          NaN   \n",
       "5        Hand ball by Jose Paolo Guerrero (Hamburg).          10          NaN   \n",
       "6     Corner,  Hamburg. Conceded by Lukasz Piszczek.           2          NaN   \n",
       "7  Chris Lowe (Borussia Dortmund) wins a free kic...           8          NaN   \n",
       "8                     Foul by Gojko Kacar (Hamburg).           3          NaN   \n",
       "9                     Foul by Gokhan Tore (Hamburg).           3          NaN   \n",
       "\n",
       "   side         event_team           opponent  ... player_in player_out  \\\n",
       "0     2         Hamburg SV  Borussia Dortmund  ...       NaN        NaN   \n",
       "1     1  Borussia Dortmund         Hamburg SV  ...       NaN        NaN   \n",
       "2     1  Borussia Dortmund         Hamburg SV  ...       NaN        NaN   \n",
       "3     1  Borussia Dortmund         Hamburg SV  ...       NaN        NaN   \n",
       "4     2         Hamburg SV  Borussia Dortmund  ...       NaN        NaN   \n",
       "5     2         Hamburg SV  Borussia Dortmund  ...       NaN        NaN   \n",
       "6     2         Hamburg SV  Borussia Dortmund  ...       NaN        NaN   \n",
       "7     1  Borussia Dortmund         Hamburg SV  ...       NaN        NaN   \n",
       "8     2         Hamburg SV  Borussia Dortmund  ...       NaN        NaN   \n",
       "9     2         Hamburg SV  Borussia Dortmund  ...       NaN        NaN   \n",
       "\n",
       "  shot_place shot_outcome  is_goal  location  bodypart  assist_method  \\\n",
       "0        6.0          2.0        0       9.0       2.0              1   \n",
       "1        NaN          NaN        0       NaN       NaN              0   \n",
       "2        NaN          NaN        0       NaN       NaN              0   \n",
       "3        NaN          NaN        0       NaN       NaN              0   \n",
       "4        NaN          NaN        0       2.0       NaN              0   \n",
       "5        NaN          NaN        0       NaN       NaN              0   \n",
       "6        NaN          NaN        0       NaN       NaN              0   \n",
       "7        NaN          NaN        0       2.0       NaN              0   \n",
       "8        NaN          NaN        0       NaN       NaN              0   \n",
       "9        NaN          NaN        0       NaN       NaN              0   \n",
       "\n",
       "   situation  fast_break  \n",
       "0        1.0           0  \n",
       "1        NaN           0  \n",
       "2        NaN           0  \n",
       "3        NaN           0  \n",
       "4        NaN           0  \n",
       "5        NaN           0  \n",
       "6        NaN           0  \n",
       "7        NaN           0  \n",
       "8        NaN           0  \n",
       "9        NaN           0  \n",
       "\n",
       "[10 rows x 22 columns]"
      ]
     },
     "execution_count": 3,
     "metadata": {},
     "output_type": "execute_result"
    }
   ],
   "source": [
    "events.head(10)"
   ]
  },
  {
   "cell_type": "markdown",
   "metadata": {},
   "source": [
    "We can see here that some columns such as *shot_place*, *shot_outcome* and *location* have numerical values. These numerical values indicate different possible values for the particular column. These possible values for each column are specified in the text file, *dictionary.txt*.This text file will be used later to replace the numerical values with appropriate values for the columns."
   ]
  },
  {
   "cell_type": "markdown",
   "metadata": {},
   "source": [
    "#### Summary statistics for events dataset"
   ]
  },
  {
   "cell_type": "markdown",
   "metadata": {},
   "source": [
    "Let's now compute the summary statistics for the events dataset."
   ]
  },
  {
   "cell_type": "code",
   "execution_count": 4,
   "metadata": {},
   "outputs": [
    {
     "data": {
      "text/html": [
       "<div>\n",
       "<style scoped>\n",
       "    .dataframe tbody tr th:only-of-type {\n",
       "        vertical-align: middle;\n",
       "    }\n",
       "\n",
       "    .dataframe tbody tr th {\n",
       "        vertical-align: top;\n",
       "    }\n",
       "\n",
       "    .dataframe thead th {\n",
       "        text-align: right;\n",
       "    }\n",
       "</style>\n",
       "<table border=\"1\" class=\"dataframe\">\n",
       "  <thead>\n",
       "    <tr style=\"text-align: right;\">\n",
       "      <th></th>\n",
       "      <th>sort_order</th>\n",
       "      <th>time</th>\n",
       "      <th>event_type</th>\n",
       "      <th>event_type2</th>\n",
       "      <th>side</th>\n",
       "      <th>shot_place</th>\n",
       "      <th>shot_outcome</th>\n",
       "      <th>is_goal</th>\n",
       "      <th>location</th>\n",
       "      <th>bodypart</th>\n",
       "      <th>assist_method</th>\n",
       "      <th>situation</th>\n",
       "      <th>fast_break</th>\n",
       "    </tr>\n",
       "  </thead>\n",
       "  <tbody>\n",
       "    <tr>\n",
       "      <th>count</th>\n",
       "      <td>941009.000000</td>\n",
       "      <td>941009.000000</td>\n",
       "      <td>941009.000000</td>\n",
       "      <td>214293.000000</td>\n",
       "      <td>941009.000000</td>\n",
       "      <td>227459.000000</td>\n",
       "      <td>228498.000000</td>\n",
       "      <td>941009.000000</td>\n",
       "      <td>467067.000000</td>\n",
       "      <td>229185.000000</td>\n",
       "      <td>941009.000000</td>\n",
       "      <td>229137.000000</td>\n",
       "      <td>941009.000000</td>\n",
       "    </tr>\n",
       "    <tr>\n",
       "      <th>mean</th>\n",
       "      <td>53.858826</td>\n",
       "      <td>49.663663</td>\n",
       "      <td>4.326575</td>\n",
       "      <td>12.233764</td>\n",
       "      <td>1.481170</td>\n",
       "      <td>5.733693</td>\n",
       "      <td>1.926555</td>\n",
       "      <td>0.025978</td>\n",
       "      <td>6.209073</td>\n",
       "      <td>1.624831</td>\n",
       "      <td>0.264332</td>\n",
       "      <td>1.281316</td>\n",
       "      <td>0.004876</td>\n",
       "    </tr>\n",
       "    <tr>\n",
       "      <th>std</th>\n",
       "      <td>32.014268</td>\n",
       "      <td>26.488977</td>\n",
       "      <td>2.995313</td>\n",
       "      <td>0.468850</td>\n",
       "      <td>0.499646</td>\n",
       "      <td>3.326100</td>\n",
       "      <td>0.797055</td>\n",
       "      <td>0.159071</td>\n",
       "      <td>5.421736</td>\n",
       "      <td>0.740400</td>\n",
       "      <td>0.655501</td>\n",
       "      <td>0.709394</td>\n",
       "      <td>0.069655</td>\n",
       "    </tr>\n",
       "    <tr>\n",
       "      <th>min</th>\n",
       "      <td>1.000000</td>\n",
       "      <td>0.000000</td>\n",
       "      <td>1.000000</td>\n",
       "      <td>12.000000</td>\n",
       "      <td>1.000000</td>\n",
       "      <td>1.000000</td>\n",
       "      <td>1.000000</td>\n",
       "      <td>0.000000</td>\n",
       "      <td>1.000000</td>\n",
       "      <td>1.000000</td>\n",
       "      <td>0.000000</td>\n",
       "      <td>1.000000</td>\n",
       "      <td>0.000000</td>\n",
       "    </tr>\n",
       "    <tr>\n",
       "      <th>25%</th>\n",
       "      <td>27.000000</td>\n",
       "      <td>27.000000</td>\n",
       "      <td>2.000000</td>\n",
       "      <td>12.000000</td>\n",
       "      <td>1.000000</td>\n",
       "      <td>2.000000</td>\n",
       "      <td>1.000000</td>\n",
       "      <td>0.000000</td>\n",
       "      <td>2.000000</td>\n",
       "      <td>1.000000</td>\n",
       "      <td>0.000000</td>\n",
       "      <td>1.000000</td>\n",
       "      <td>0.000000</td>\n",
       "    </tr>\n",
       "    <tr>\n",
       "      <th>50%</th>\n",
       "      <td>53.000000</td>\n",
       "      <td>51.000000</td>\n",
       "      <td>3.000000</td>\n",
       "      <td>12.000000</td>\n",
       "      <td>1.000000</td>\n",
       "      <td>5.000000</td>\n",
       "      <td>2.000000</td>\n",
       "      <td>0.000000</td>\n",
       "      <td>3.000000</td>\n",
       "      <td>1.000000</td>\n",
       "      <td>0.000000</td>\n",
       "      <td>1.000000</td>\n",
       "      <td>0.000000</td>\n",
       "    </tr>\n",
       "    <tr>\n",
       "      <th>75%</th>\n",
       "      <td>79.000000</td>\n",
       "      <td>73.000000</td>\n",
       "      <td>8.000000</td>\n",
       "      <td>12.000000</td>\n",
       "      <td>2.000000</td>\n",
       "      <td>9.000000</td>\n",
       "      <td>3.000000</td>\n",
       "      <td>0.000000</td>\n",
       "      <td>11.000000</td>\n",
       "      <td>2.000000</td>\n",
       "      <td>0.000000</td>\n",
       "      <td>1.000000</td>\n",
       "      <td>0.000000</td>\n",
       "    </tr>\n",
       "    <tr>\n",
       "      <th>max</th>\n",
       "      <td>180.000000</td>\n",
       "      <td>100.000000</td>\n",
       "      <td>11.000000</td>\n",
       "      <td>15.000000</td>\n",
       "      <td>2.000000</td>\n",
       "      <td>13.000000</td>\n",
       "      <td>4.000000</td>\n",
       "      <td>1.000000</td>\n",
       "      <td>19.000000</td>\n",
       "      <td>3.000000</td>\n",
       "      <td>4.000000</td>\n",
       "      <td>4.000000</td>\n",
       "      <td>1.000000</td>\n",
       "    </tr>\n",
       "  </tbody>\n",
       "</table>\n",
       "</div>"
      ],
      "text/plain": [
       "          sort_order           time     event_type    event_type2  \\\n",
       "count  941009.000000  941009.000000  941009.000000  214293.000000   \n",
       "mean       53.858826      49.663663       4.326575      12.233764   \n",
       "std        32.014268      26.488977       2.995313       0.468850   \n",
       "min         1.000000       0.000000       1.000000      12.000000   \n",
       "25%        27.000000      27.000000       2.000000      12.000000   \n",
       "50%        53.000000      51.000000       3.000000      12.000000   \n",
       "75%        79.000000      73.000000       8.000000      12.000000   \n",
       "max       180.000000     100.000000      11.000000      15.000000   \n",
       "\n",
       "                side     shot_place   shot_outcome        is_goal  \\\n",
       "count  941009.000000  227459.000000  228498.000000  941009.000000   \n",
       "mean        1.481170       5.733693       1.926555       0.025978   \n",
       "std         0.499646       3.326100       0.797055       0.159071   \n",
       "min         1.000000       1.000000       1.000000       0.000000   \n",
       "25%         1.000000       2.000000       1.000000       0.000000   \n",
       "50%         1.000000       5.000000       2.000000       0.000000   \n",
       "75%         2.000000       9.000000       3.000000       0.000000   \n",
       "max         2.000000      13.000000       4.000000       1.000000   \n",
       "\n",
       "            location       bodypart  assist_method      situation  \\\n",
       "count  467067.000000  229185.000000  941009.000000  229137.000000   \n",
       "mean        6.209073       1.624831       0.264332       1.281316   \n",
       "std         5.421736       0.740400       0.655501       0.709394   \n",
       "min         1.000000       1.000000       0.000000       1.000000   \n",
       "25%         2.000000       1.000000       0.000000       1.000000   \n",
       "50%         3.000000       1.000000       0.000000       1.000000   \n",
       "75%        11.000000       2.000000       0.000000       1.000000   \n",
       "max        19.000000       3.000000       4.000000       4.000000   \n",
       "\n",
       "          fast_break  \n",
       "count  941009.000000  \n",
       "mean        0.004876  \n",
       "std         0.069655  \n",
       "min         0.000000  \n",
       "25%         0.000000  \n",
       "50%         0.000000  \n",
       "75%         0.000000  \n",
       "max         1.000000  "
      ]
     },
     "execution_count": 4,
     "metadata": {},
     "output_type": "execute_result"
    }
   ],
   "source": [
    "events.describe()"
   ]
  },
  {
   "cell_type": "markdown",
   "metadata": {},
   "source": [
    "#### General information (ginf) dataset"
   ]
  },
  {
   "cell_type": "markdown",
   "metadata": {},
   "source": [
    "The *ginf* dataset contains general information and metadata about each game in the events dataset. I will use this dataset along with the events dataset loaded above to get more information to describe each game in the football events dataset."
   ]
  },
  {
   "cell_type": "code",
   "execution_count": 5,
   "metadata": {},
   "outputs": [
    {
     "name": "stdout",
     "output_type": "stream",
     "text": [
      "<class 'pandas.core.frame.DataFrame'>\n",
      "RangeIndex: 10112 entries, 0 to 10111\n",
      "Data columns (total 18 columns):\n",
      "id_odsp      10112 non-null object\n",
      "link_odsp    10112 non-null object\n",
      "adv_stats    10112 non-null bool\n",
      "date         10112 non-null object\n",
      "league       10112 non-null object\n",
      "season       10112 non-null int64\n",
      "country      10112 non-null object\n",
      "ht           10112 non-null object\n",
      "at           10112 non-null object\n",
      "fthg         10112 non-null int64\n",
      "ftag         10112 non-null int64\n",
      "odd_h        10112 non-null float64\n",
      "odd_d        10112 non-null float64\n",
      "odd_a        10112 non-null float64\n",
      "odd_over     977 non-null float64\n",
      "odd_under    977 non-null float64\n",
      "odd_bts      977 non-null float64\n",
      "odd_bts_n    977 non-null float64\n",
      "dtypes: bool(1), float64(7), int64(3), object(7)\n",
      "memory usage: 1.3+ MB\n"
     ]
    }
   ],
   "source": [
    "ginf = pd.read_csv(\"Data/ginf.csv\")\n",
    "ginf.info()"
   ]
  },
  {
   "cell_type": "markdown",
   "metadata": {},
   "source": [
    "The *ginf* dataset consists of 18 columns such as *ht* (home team), *at* (away team), *league* and *country* to further describe each match in the events dataset."
   ]
  },
  {
   "cell_type": "code",
   "execution_count": 6,
   "metadata": {},
   "outputs": [
    {
     "data": {
      "text/html": [
       "<div>\n",
       "<style scoped>\n",
       "    .dataframe tbody tr th:only-of-type {\n",
       "        vertical-align: middle;\n",
       "    }\n",
       "\n",
       "    .dataframe tbody tr th {\n",
       "        vertical-align: top;\n",
       "    }\n",
       "\n",
       "    .dataframe thead th {\n",
       "        text-align: right;\n",
       "    }\n",
       "</style>\n",
       "<table border=\"1\" class=\"dataframe\">\n",
       "  <thead>\n",
       "    <tr style=\"text-align: right;\">\n",
       "      <th></th>\n",
       "      <th>id_odsp</th>\n",
       "      <th>link_odsp</th>\n",
       "      <th>adv_stats</th>\n",
       "      <th>date</th>\n",
       "      <th>league</th>\n",
       "      <th>season</th>\n",
       "      <th>country</th>\n",
       "      <th>ht</th>\n",
       "      <th>at</th>\n",
       "      <th>fthg</th>\n",
       "      <th>ftag</th>\n",
       "      <th>odd_h</th>\n",
       "      <th>odd_d</th>\n",
       "      <th>odd_a</th>\n",
       "      <th>odd_over</th>\n",
       "      <th>odd_under</th>\n",
       "      <th>odd_bts</th>\n",
       "      <th>odd_bts_n</th>\n",
       "    </tr>\n",
       "  </thead>\n",
       "  <tbody>\n",
       "    <tr>\n",
       "      <th>0</th>\n",
       "      <td>UFot0hit/</td>\n",
       "      <td>/soccer/germany/bundesliga-2011-2012/dortmund-...</td>\n",
       "      <td>True</td>\n",
       "      <td>2011-08-05</td>\n",
       "      <td>D1</td>\n",
       "      <td>2012</td>\n",
       "      <td>germany</td>\n",
       "      <td>Borussia Dortmund</td>\n",
       "      <td>Hamburg SV</td>\n",
       "      <td>3</td>\n",
       "      <td>1</td>\n",
       "      <td>1.56</td>\n",
       "      <td>4.41</td>\n",
       "      <td>7.42</td>\n",
       "      <td>NaN</td>\n",
       "      <td>NaN</td>\n",
       "      <td>NaN</td>\n",
       "      <td>NaN</td>\n",
       "    </tr>\n",
       "    <tr>\n",
       "      <th>1</th>\n",
       "      <td>Aw5DflLH/</td>\n",
       "      <td>/soccer/germany/bundesliga-2011-2012/augsburg-...</td>\n",
       "      <td>True</td>\n",
       "      <td>2011-08-06</td>\n",
       "      <td>D1</td>\n",
       "      <td>2012</td>\n",
       "      <td>germany</td>\n",
       "      <td>FC Augsburg</td>\n",
       "      <td>SC Freiburg</td>\n",
       "      <td>2</td>\n",
       "      <td>2</td>\n",
       "      <td>2.36</td>\n",
       "      <td>3.60</td>\n",
       "      <td>3.40</td>\n",
       "      <td>NaN</td>\n",
       "      <td>NaN</td>\n",
       "      <td>NaN</td>\n",
       "      <td>NaN</td>\n",
       "    </tr>\n",
       "    <tr>\n",
       "      <th>2</th>\n",
       "      <td>bkjpaC6n/</td>\n",
       "      <td>/soccer/germany/bundesliga-2011-2012/werder-br...</td>\n",
       "      <td>True</td>\n",
       "      <td>2011-08-06</td>\n",
       "      <td>D1</td>\n",
       "      <td>2012</td>\n",
       "      <td>germany</td>\n",
       "      <td>Werder Bremen</td>\n",
       "      <td>Kaiserslautern</td>\n",
       "      <td>2</td>\n",
       "      <td>0</td>\n",
       "      <td>1.83</td>\n",
       "      <td>4.20</td>\n",
       "      <td>4.80</td>\n",
       "      <td>NaN</td>\n",
       "      <td>NaN</td>\n",
       "      <td>NaN</td>\n",
       "      <td>NaN</td>\n",
       "    </tr>\n",
       "    <tr>\n",
       "      <th>3</th>\n",
       "      <td>CzPV312a/</td>\n",
       "      <td>/soccer/france/ligue-1-2011-2012/paris-sg-lori...</td>\n",
       "      <td>True</td>\n",
       "      <td>2011-08-06</td>\n",
       "      <td>F1</td>\n",
       "      <td>2012</td>\n",
       "      <td>france</td>\n",
       "      <td>Paris Saint-Germain</td>\n",
       "      <td>Lorient</td>\n",
       "      <td>0</td>\n",
       "      <td>1</td>\n",
       "      <td>1.55</td>\n",
       "      <td>4.50</td>\n",
       "      <td>9.40</td>\n",
       "      <td>NaN</td>\n",
       "      <td>NaN</td>\n",
       "      <td>NaN</td>\n",
       "      <td>NaN</td>\n",
       "    </tr>\n",
       "    <tr>\n",
       "      <th>4</th>\n",
       "      <td>GUOdmtII/</td>\n",
       "      <td>/soccer/france/ligue-1-2011-2012/caen-valencie...</td>\n",
       "      <td>True</td>\n",
       "      <td>2011-08-06</td>\n",
       "      <td>F1</td>\n",
       "      <td>2012</td>\n",
       "      <td>france</td>\n",
       "      <td>Caen</td>\n",
       "      <td>Valenciennes</td>\n",
       "      <td>1</td>\n",
       "      <td>0</td>\n",
       "      <td>2.50</td>\n",
       "      <td>3.40</td>\n",
       "      <td>3.45</td>\n",
       "      <td>NaN</td>\n",
       "      <td>NaN</td>\n",
       "      <td>NaN</td>\n",
       "      <td>NaN</td>\n",
       "    </tr>\n",
       "    <tr>\n",
       "      <th>5</th>\n",
       "      <td>lOpzwMkp/</td>\n",
       "      <td>/soccer/germany/bundesliga-2011-2012/hertha-be...</td>\n",
       "      <td>True</td>\n",
       "      <td>2011-08-06</td>\n",
       "      <td>D1</td>\n",
       "      <td>2012</td>\n",
       "      <td>germany</td>\n",
       "      <td>Hertha Berlin</td>\n",
       "      <td>Nurnberg</td>\n",
       "      <td>0</td>\n",
       "      <td>1</td>\n",
       "      <td>2.06</td>\n",
       "      <td>3.75</td>\n",
       "      <td>3.95</td>\n",
       "      <td>NaN</td>\n",
       "      <td>NaN</td>\n",
       "      <td>NaN</td>\n",
       "      <td>NaN</td>\n",
       "    </tr>\n",
       "    <tr>\n",
       "      <th>6</th>\n",
       "      <td>M7PhlM2C/</td>\n",
       "      <td>/soccer/france/ligue-1-2011-2012/brest-evian-t...</td>\n",
       "      <td>True</td>\n",
       "      <td>2011-08-06</td>\n",
       "      <td>F1</td>\n",
       "      <td>2012</td>\n",
       "      <td>france</td>\n",
       "      <td>Brest</td>\n",
       "      <td>Evian Thonon Gaillard</td>\n",
       "      <td>2</td>\n",
       "      <td>2</td>\n",
       "      <td>2.29</td>\n",
       "      <td>3.25</td>\n",
       "      <td>3.85</td>\n",
       "      <td>NaN</td>\n",
       "      <td>NaN</td>\n",
       "      <td>NaN</td>\n",
       "      <td>NaN</td>\n",
       "    </tr>\n",
       "    <tr>\n",
       "      <th>7</th>\n",
       "      <td>QuWqjrYa/</td>\n",
       "      <td>/soccer/france/ligue-1-2011-2012/ac-ajaccio-to...</td>\n",
       "      <td>True</td>\n",
       "      <td>2011-08-06</td>\n",
       "      <td>F1</td>\n",
       "      <td>2012</td>\n",
       "      <td>france</td>\n",
       "      <td>AC Ajaccio</td>\n",
       "      <td>Toulouse</td>\n",
       "      <td>0</td>\n",
       "      <td>2</td>\n",
       "      <td>2.80</td>\n",
       "      <td>3.10</td>\n",
       "      <td>3.05</td>\n",
       "      <td>NaN</td>\n",
       "      <td>NaN</td>\n",
       "      <td>NaN</td>\n",
       "      <td>NaN</td>\n",
       "    </tr>\n",
       "    <tr>\n",
       "      <th>8</th>\n",
       "      <td>UBZQ4smg/</td>\n",
       "      <td>/soccer/france/ligue-1-2011-2012/nice-lyon-UBZ...</td>\n",
       "      <td>True</td>\n",
       "      <td>2011-08-06</td>\n",
       "      <td>F1</td>\n",
       "      <td>2012</td>\n",
       "      <td>france</td>\n",
       "      <td>Nice</td>\n",
       "      <td>Lyon</td>\n",
       "      <td>1</td>\n",
       "      <td>3</td>\n",
       "      <td>4.50</td>\n",
       "      <td>3.55</td>\n",
       "      <td>2.00</td>\n",
       "      <td>NaN</td>\n",
       "      <td>NaN</td>\n",
       "      <td>NaN</td>\n",
       "      <td>NaN</td>\n",
       "    </tr>\n",
       "    <tr>\n",
       "      <th>9</th>\n",
       "      <td>Wn69eU5B/</td>\n",
       "      <td>/soccer/germany/bundesliga-2011-2012/koln-wolf...</td>\n",
       "      <td>True</td>\n",
       "      <td>2011-08-06</td>\n",
       "      <td>D1</td>\n",
       "      <td>2012</td>\n",
       "      <td>germany</td>\n",
       "      <td>FC Cologne</td>\n",
       "      <td>VfL Wolfsburg</td>\n",
       "      <td>0</td>\n",
       "      <td>3</td>\n",
       "      <td>3.00</td>\n",
       "      <td>3.80</td>\n",
       "      <td>2.54</td>\n",
       "      <td>NaN</td>\n",
       "      <td>NaN</td>\n",
       "      <td>NaN</td>\n",
       "      <td>NaN</td>\n",
       "    </tr>\n",
       "  </tbody>\n",
       "</table>\n",
       "</div>"
      ],
      "text/plain": [
       "     id_odsp                                          link_odsp  adv_stats  \\\n",
       "0  UFot0hit/  /soccer/germany/bundesliga-2011-2012/dortmund-...       True   \n",
       "1  Aw5DflLH/  /soccer/germany/bundesliga-2011-2012/augsburg-...       True   \n",
       "2  bkjpaC6n/  /soccer/germany/bundesliga-2011-2012/werder-br...       True   \n",
       "3  CzPV312a/  /soccer/france/ligue-1-2011-2012/paris-sg-lori...       True   \n",
       "4  GUOdmtII/  /soccer/france/ligue-1-2011-2012/caen-valencie...       True   \n",
       "5  lOpzwMkp/  /soccer/germany/bundesliga-2011-2012/hertha-be...       True   \n",
       "6  M7PhlM2C/  /soccer/france/ligue-1-2011-2012/brest-evian-t...       True   \n",
       "7  QuWqjrYa/  /soccer/france/ligue-1-2011-2012/ac-ajaccio-to...       True   \n",
       "8  UBZQ4smg/  /soccer/france/ligue-1-2011-2012/nice-lyon-UBZ...       True   \n",
       "9  Wn69eU5B/  /soccer/germany/bundesliga-2011-2012/koln-wolf...       True   \n",
       "\n",
       "         date league  season  country                   ht  \\\n",
       "0  2011-08-05     D1    2012  germany    Borussia Dortmund   \n",
       "1  2011-08-06     D1    2012  germany          FC Augsburg   \n",
       "2  2011-08-06     D1    2012  germany        Werder Bremen   \n",
       "3  2011-08-06     F1    2012   france  Paris Saint-Germain   \n",
       "4  2011-08-06     F1    2012   france                 Caen   \n",
       "5  2011-08-06     D1    2012  germany        Hertha Berlin   \n",
       "6  2011-08-06     F1    2012   france                Brest   \n",
       "7  2011-08-06     F1    2012   france           AC Ajaccio   \n",
       "8  2011-08-06     F1    2012   france                 Nice   \n",
       "9  2011-08-06     D1    2012  germany           FC Cologne   \n",
       "\n",
       "                      at  fthg  ftag  odd_h  odd_d  odd_a  odd_over  \\\n",
       "0             Hamburg SV     3     1   1.56   4.41   7.42       NaN   \n",
       "1            SC Freiburg     2     2   2.36   3.60   3.40       NaN   \n",
       "2         Kaiserslautern     2     0   1.83   4.20   4.80       NaN   \n",
       "3                Lorient     0     1   1.55   4.50   9.40       NaN   \n",
       "4           Valenciennes     1     0   2.50   3.40   3.45       NaN   \n",
       "5               Nurnberg     0     1   2.06   3.75   3.95       NaN   \n",
       "6  Evian Thonon Gaillard     2     2   2.29   3.25   3.85       NaN   \n",
       "7               Toulouse     0     2   2.80   3.10   3.05       NaN   \n",
       "8                   Lyon     1     3   4.50   3.55   2.00       NaN   \n",
       "9          VfL Wolfsburg     0     3   3.00   3.80   2.54       NaN   \n",
       "\n",
       "   odd_under  odd_bts  odd_bts_n  \n",
       "0        NaN      NaN        NaN  \n",
       "1        NaN      NaN        NaN  \n",
       "2        NaN      NaN        NaN  \n",
       "3        NaN      NaN        NaN  \n",
       "4        NaN      NaN        NaN  \n",
       "5        NaN      NaN        NaN  \n",
       "6        NaN      NaN        NaN  \n",
       "7        NaN      NaN        NaN  \n",
       "8        NaN      NaN        NaN  \n",
       "9        NaN      NaN        NaN  "
      ]
     },
     "execution_count": 6,
     "metadata": {},
     "output_type": "execute_result"
    }
   ],
   "source": [
    "ginf.head(10)"
   ]
  },
  {
   "cell_type": "markdown",
   "metadata": {},
   "source": [
    "#### Summary statistics for ginf dataset"
   ]
  },
  {
   "cell_type": "code",
   "execution_count": 7,
   "metadata": {},
   "outputs": [
    {
     "data": {
      "text/html": [
       "<div>\n",
       "<style scoped>\n",
       "    .dataframe tbody tr th:only-of-type {\n",
       "        vertical-align: middle;\n",
       "    }\n",
       "\n",
       "    .dataframe tbody tr th {\n",
       "        vertical-align: top;\n",
       "    }\n",
       "\n",
       "    .dataframe thead th {\n",
       "        text-align: right;\n",
       "    }\n",
       "</style>\n",
       "<table border=\"1\" class=\"dataframe\">\n",
       "  <thead>\n",
       "    <tr style=\"text-align: right;\">\n",
       "      <th></th>\n",
       "      <th>season</th>\n",
       "      <th>fthg</th>\n",
       "      <th>ftag</th>\n",
       "      <th>odd_h</th>\n",
       "      <th>odd_d</th>\n",
       "      <th>odd_a</th>\n",
       "      <th>odd_over</th>\n",
       "      <th>odd_under</th>\n",
       "      <th>odd_bts</th>\n",
       "      <th>odd_bts_n</th>\n",
       "    </tr>\n",
       "  </thead>\n",
       "  <tbody>\n",
       "    <tr>\n",
       "      <th>count</th>\n",
       "      <td>10112.000000</td>\n",
       "      <td>10112.000000</td>\n",
       "      <td>10112.000000</td>\n",
       "      <td>10112.000000</td>\n",
       "      <td>10112.000000</td>\n",
       "      <td>10112.000000</td>\n",
       "      <td>977.000000</td>\n",
       "      <td>977.000000</td>\n",
       "      <td>977.000000</td>\n",
       "      <td>977.000000</td>\n",
       "    </tr>\n",
       "    <tr>\n",
       "      <th>mean</th>\n",
       "      <td>2014.290249</td>\n",
       "      <td>1.548062</td>\n",
       "      <td>1.154964</td>\n",
       "      <td>2.930120</td>\n",
       "      <td>4.278434</td>\n",
       "      <td>5.537545</td>\n",
       "      <td>2.046817</td>\n",
       "      <td>2.105629</td>\n",
       "      <td>1.942917</td>\n",
       "      <td>2.063941</td>\n",
       "    </tr>\n",
       "    <tr>\n",
       "      <th>std</th>\n",
       "      <td>1.610074</td>\n",
       "      <td>1.309591</td>\n",
       "      <td>1.142596</td>\n",
       "      <td>2.370135</td>\n",
       "      <td>1.863643</td>\n",
       "      <td>5.700485</td>\n",
       "      <td>0.367062</td>\n",
       "      <td>0.536646</td>\n",
       "      <td>0.211102</td>\n",
       "      <td>0.251276</td>\n",
       "    </tr>\n",
       "    <tr>\n",
       "      <th>min</th>\n",
       "      <td>2012.000000</td>\n",
       "      <td>0.000000</td>\n",
       "      <td>0.000000</td>\n",
       "      <td>1.060000</td>\n",
       "      <td>1.910000</td>\n",
       "      <td>1.110000</td>\n",
       "      <td>1.140000</td>\n",
       "      <td>1.420000</td>\n",
       "      <td>1.410000</td>\n",
       "      <td>1.440000</td>\n",
       "    </tr>\n",
       "    <tr>\n",
       "      <th>25%</th>\n",
       "      <td>2013.000000</td>\n",
       "      <td>1.000000</td>\n",
       "      <td>0.000000</td>\n",
       "      <td>1.760000</td>\n",
       "      <td>3.430000</td>\n",
       "      <td>2.740000</td>\n",
       "      <td>1.790000</td>\n",
       "      <td>1.780000</td>\n",
       "      <td>1.800000</td>\n",
       "      <td>1.870000</td>\n",
       "    </tr>\n",
       "    <tr>\n",
       "      <th>50%</th>\n",
       "      <td>2014.000000</td>\n",
       "      <td>1.000000</td>\n",
       "      <td>1.000000</td>\n",
       "      <td>2.270000</td>\n",
       "      <td>3.680000</td>\n",
       "      <td>3.860000</td>\n",
       "      <td>2.030000</td>\n",
       "      <td>1.970000</td>\n",
       "      <td>1.920000</td>\n",
       "      <td>2.050000</td>\n",
       "    </tr>\n",
       "    <tr>\n",
       "      <th>75%</th>\n",
       "      <td>2016.000000</td>\n",
       "      <td>2.000000</td>\n",
       "      <td>2.000000</td>\n",
       "      <td>3.080000</td>\n",
       "      <td>4.300000</td>\n",
       "      <td>6.000000</td>\n",
       "      <td>2.280000</td>\n",
       "      <td>2.270000</td>\n",
       "      <td>2.050000</td>\n",
       "      <td>2.200000</td>\n",
       "    </tr>\n",
       "    <tr>\n",
       "      <th>max</th>\n",
       "      <td>2017.000000</td>\n",
       "      <td>10.000000</td>\n",
       "      <td>9.000000</td>\n",
       "      <td>46.000000</td>\n",
       "      <td>35.000000</td>\n",
       "      <td>81.000000</td>\n",
       "      <td>3.400000</td>\n",
       "      <td>7.500000</td>\n",
       "      <td>3.250000</td>\n",
       "      <td>3.460000</td>\n",
       "    </tr>\n",
       "  </tbody>\n",
       "</table>\n",
       "</div>"
      ],
      "text/plain": [
       "             season          fthg          ftag         odd_h         odd_d  \\\n",
       "count  10112.000000  10112.000000  10112.000000  10112.000000  10112.000000   \n",
       "mean    2014.290249      1.548062      1.154964      2.930120      4.278434   \n",
       "std        1.610074      1.309591      1.142596      2.370135      1.863643   \n",
       "min     2012.000000      0.000000      0.000000      1.060000      1.910000   \n",
       "25%     2013.000000      1.000000      0.000000      1.760000      3.430000   \n",
       "50%     2014.000000      1.000000      1.000000      2.270000      3.680000   \n",
       "75%     2016.000000      2.000000      2.000000      3.080000      4.300000   \n",
       "max     2017.000000     10.000000      9.000000     46.000000     35.000000   \n",
       "\n",
       "              odd_a    odd_over   odd_under     odd_bts   odd_bts_n  \n",
       "count  10112.000000  977.000000  977.000000  977.000000  977.000000  \n",
       "mean       5.537545    2.046817    2.105629    1.942917    2.063941  \n",
       "std        5.700485    0.367062    0.536646    0.211102    0.251276  \n",
       "min        1.110000    1.140000    1.420000    1.410000    1.440000  \n",
       "25%        2.740000    1.790000    1.780000    1.800000    1.870000  \n",
       "50%        3.860000    2.030000    1.970000    1.920000    2.050000  \n",
       "75%        6.000000    2.280000    2.270000    2.050000    2.200000  \n",
       "max       81.000000    3.400000    7.500000    3.250000    3.460000  "
      ]
     },
     "execution_count": 7,
     "metadata": {},
     "output_type": "execute_result"
    }
   ],
   "source": [
    "ginf.describe()"
   ]
  },
  {
   "cell_type": "markdown",
   "metadata": {},
   "source": [
    "#### Join events dataset with ginf dataset"
   ]
  },
  {
   "cell_type": "markdown",
   "metadata": {},
   "source": [
    "Next, I have joined the events and ginf datasets on the common column *id_odsp*, into the DataFrame *events_data* which containes detailed data about the football events. I will be using this DataFrame to perform all the required analysis."
   ]
  },
  {
   "cell_type": "code",
   "execution_count": 8,
   "metadata": {
    "scrolled": false
   },
   "outputs": [
    {
     "data": {
      "text/html": [
       "<div>\n",
       "<style scoped>\n",
       "    .dataframe tbody tr th:only-of-type {\n",
       "        vertical-align: middle;\n",
       "    }\n",
       "\n",
       "    .dataframe tbody tr th {\n",
       "        vertical-align: top;\n",
       "    }\n",
       "\n",
       "    .dataframe thead th {\n",
       "        text-align: right;\n",
       "    }\n",
       "</style>\n",
       "<table border=\"1\" class=\"dataframe\">\n",
       "  <thead>\n",
       "    <tr style=\"text-align: right;\">\n",
       "      <th></th>\n",
       "      <th>id_odsp</th>\n",
       "      <th>link_odsp</th>\n",
       "      <th>adv_stats</th>\n",
       "      <th>date</th>\n",
       "      <th>league</th>\n",
       "      <th>season</th>\n",
       "      <th>country</th>\n",
       "      <th>ht</th>\n",
       "      <th>at</th>\n",
       "      <th>fthg</th>\n",
       "      <th>...</th>\n",
       "      <th>player_in</th>\n",
       "      <th>player_out</th>\n",
       "      <th>shot_place</th>\n",
       "      <th>shot_outcome</th>\n",
       "      <th>is_goal</th>\n",
       "      <th>location</th>\n",
       "      <th>bodypart</th>\n",
       "      <th>assist_method</th>\n",
       "      <th>situation</th>\n",
       "      <th>fast_break</th>\n",
       "    </tr>\n",
       "  </thead>\n",
       "  <tbody>\n",
       "    <tr>\n",
       "      <th>0</th>\n",
       "      <td>UFot0hit/</td>\n",
       "      <td>/soccer/germany/bundesliga-2011-2012/dortmund-...</td>\n",
       "      <td>True</td>\n",
       "      <td>2011-08-05</td>\n",
       "      <td>D1</td>\n",
       "      <td>2012</td>\n",
       "      <td>germany</td>\n",
       "      <td>Borussia Dortmund</td>\n",
       "      <td>Hamburg SV</td>\n",
       "      <td>3</td>\n",
       "      <td>...</td>\n",
       "      <td>NaN</td>\n",
       "      <td>NaN</td>\n",
       "      <td>6.0</td>\n",
       "      <td>2.0</td>\n",
       "      <td>0.0</td>\n",
       "      <td>9.0</td>\n",
       "      <td>2.0</td>\n",
       "      <td>1.0</td>\n",
       "      <td>1.0</td>\n",
       "      <td>0.0</td>\n",
       "    </tr>\n",
       "    <tr>\n",
       "      <th>1</th>\n",
       "      <td>UFot0hit/</td>\n",
       "      <td>/soccer/germany/bundesliga-2011-2012/dortmund-...</td>\n",
       "      <td>True</td>\n",
       "      <td>2011-08-05</td>\n",
       "      <td>D1</td>\n",
       "      <td>2012</td>\n",
       "      <td>germany</td>\n",
       "      <td>Borussia Dortmund</td>\n",
       "      <td>Hamburg SV</td>\n",
       "      <td>3</td>\n",
       "      <td>...</td>\n",
       "      <td>NaN</td>\n",
       "      <td>NaN</td>\n",
       "      <td>NaN</td>\n",
       "      <td>NaN</td>\n",
       "      <td>0.0</td>\n",
       "      <td>NaN</td>\n",
       "      <td>NaN</td>\n",
       "      <td>0.0</td>\n",
       "      <td>NaN</td>\n",
       "      <td>0.0</td>\n",
       "    </tr>\n",
       "    <tr>\n",
       "      <th>2</th>\n",
       "      <td>UFot0hit/</td>\n",
       "      <td>/soccer/germany/bundesliga-2011-2012/dortmund-...</td>\n",
       "      <td>True</td>\n",
       "      <td>2011-08-05</td>\n",
       "      <td>D1</td>\n",
       "      <td>2012</td>\n",
       "      <td>germany</td>\n",
       "      <td>Borussia Dortmund</td>\n",
       "      <td>Hamburg SV</td>\n",
       "      <td>3</td>\n",
       "      <td>...</td>\n",
       "      <td>NaN</td>\n",
       "      <td>NaN</td>\n",
       "      <td>NaN</td>\n",
       "      <td>NaN</td>\n",
       "      <td>0.0</td>\n",
       "      <td>NaN</td>\n",
       "      <td>NaN</td>\n",
       "      <td>0.0</td>\n",
       "      <td>NaN</td>\n",
       "      <td>0.0</td>\n",
       "    </tr>\n",
       "    <tr>\n",
       "      <th>3</th>\n",
       "      <td>UFot0hit/</td>\n",
       "      <td>/soccer/germany/bundesliga-2011-2012/dortmund-...</td>\n",
       "      <td>True</td>\n",
       "      <td>2011-08-05</td>\n",
       "      <td>D1</td>\n",
       "      <td>2012</td>\n",
       "      <td>germany</td>\n",
       "      <td>Borussia Dortmund</td>\n",
       "      <td>Hamburg SV</td>\n",
       "      <td>3</td>\n",
       "      <td>...</td>\n",
       "      <td>NaN</td>\n",
       "      <td>NaN</td>\n",
       "      <td>NaN</td>\n",
       "      <td>NaN</td>\n",
       "      <td>0.0</td>\n",
       "      <td>NaN</td>\n",
       "      <td>NaN</td>\n",
       "      <td>0.0</td>\n",
       "      <td>NaN</td>\n",
       "      <td>0.0</td>\n",
       "    </tr>\n",
       "    <tr>\n",
       "      <th>4</th>\n",
       "      <td>UFot0hit/</td>\n",
       "      <td>/soccer/germany/bundesliga-2011-2012/dortmund-...</td>\n",
       "      <td>True</td>\n",
       "      <td>2011-08-05</td>\n",
       "      <td>D1</td>\n",
       "      <td>2012</td>\n",
       "      <td>germany</td>\n",
       "      <td>Borussia Dortmund</td>\n",
       "      <td>Hamburg SV</td>\n",
       "      <td>3</td>\n",
       "      <td>...</td>\n",
       "      <td>NaN</td>\n",
       "      <td>NaN</td>\n",
       "      <td>NaN</td>\n",
       "      <td>NaN</td>\n",
       "      <td>0.0</td>\n",
       "      <td>2.0</td>\n",
       "      <td>NaN</td>\n",
       "      <td>0.0</td>\n",
       "      <td>NaN</td>\n",
       "      <td>0.0</td>\n",
       "    </tr>\n",
       "    <tr>\n",
       "      <th>5</th>\n",
       "      <td>UFot0hit/</td>\n",
       "      <td>/soccer/germany/bundesliga-2011-2012/dortmund-...</td>\n",
       "      <td>True</td>\n",
       "      <td>2011-08-05</td>\n",
       "      <td>D1</td>\n",
       "      <td>2012</td>\n",
       "      <td>germany</td>\n",
       "      <td>Borussia Dortmund</td>\n",
       "      <td>Hamburg SV</td>\n",
       "      <td>3</td>\n",
       "      <td>...</td>\n",
       "      <td>NaN</td>\n",
       "      <td>NaN</td>\n",
       "      <td>NaN</td>\n",
       "      <td>NaN</td>\n",
       "      <td>0.0</td>\n",
       "      <td>NaN</td>\n",
       "      <td>NaN</td>\n",
       "      <td>0.0</td>\n",
       "      <td>NaN</td>\n",
       "      <td>0.0</td>\n",
       "    </tr>\n",
       "    <tr>\n",
       "      <th>6</th>\n",
       "      <td>UFot0hit/</td>\n",
       "      <td>/soccer/germany/bundesliga-2011-2012/dortmund-...</td>\n",
       "      <td>True</td>\n",
       "      <td>2011-08-05</td>\n",
       "      <td>D1</td>\n",
       "      <td>2012</td>\n",
       "      <td>germany</td>\n",
       "      <td>Borussia Dortmund</td>\n",
       "      <td>Hamburg SV</td>\n",
       "      <td>3</td>\n",
       "      <td>...</td>\n",
       "      <td>NaN</td>\n",
       "      <td>NaN</td>\n",
       "      <td>NaN</td>\n",
       "      <td>NaN</td>\n",
       "      <td>0.0</td>\n",
       "      <td>NaN</td>\n",
       "      <td>NaN</td>\n",
       "      <td>0.0</td>\n",
       "      <td>NaN</td>\n",
       "      <td>0.0</td>\n",
       "    </tr>\n",
       "    <tr>\n",
       "      <th>7</th>\n",
       "      <td>UFot0hit/</td>\n",
       "      <td>/soccer/germany/bundesliga-2011-2012/dortmund-...</td>\n",
       "      <td>True</td>\n",
       "      <td>2011-08-05</td>\n",
       "      <td>D1</td>\n",
       "      <td>2012</td>\n",
       "      <td>germany</td>\n",
       "      <td>Borussia Dortmund</td>\n",
       "      <td>Hamburg SV</td>\n",
       "      <td>3</td>\n",
       "      <td>...</td>\n",
       "      <td>NaN</td>\n",
       "      <td>NaN</td>\n",
       "      <td>NaN</td>\n",
       "      <td>NaN</td>\n",
       "      <td>0.0</td>\n",
       "      <td>2.0</td>\n",
       "      <td>NaN</td>\n",
       "      <td>0.0</td>\n",
       "      <td>NaN</td>\n",
       "      <td>0.0</td>\n",
       "    </tr>\n",
       "    <tr>\n",
       "      <th>8</th>\n",
       "      <td>UFot0hit/</td>\n",
       "      <td>/soccer/germany/bundesliga-2011-2012/dortmund-...</td>\n",
       "      <td>True</td>\n",
       "      <td>2011-08-05</td>\n",
       "      <td>D1</td>\n",
       "      <td>2012</td>\n",
       "      <td>germany</td>\n",
       "      <td>Borussia Dortmund</td>\n",
       "      <td>Hamburg SV</td>\n",
       "      <td>3</td>\n",
       "      <td>...</td>\n",
       "      <td>NaN</td>\n",
       "      <td>NaN</td>\n",
       "      <td>NaN</td>\n",
       "      <td>NaN</td>\n",
       "      <td>0.0</td>\n",
       "      <td>NaN</td>\n",
       "      <td>NaN</td>\n",
       "      <td>0.0</td>\n",
       "      <td>NaN</td>\n",
       "      <td>0.0</td>\n",
       "    </tr>\n",
       "    <tr>\n",
       "      <th>9</th>\n",
       "      <td>UFot0hit/</td>\n",
       "      <td>/soccer/germany/bundesliga-2011-2012/dortmund-...</td>\n",
       "      <td>True</td>\n",
       "      <td>2011-08-05</td>\n",
       "      <td>D1</td>\n",
       "      <td>2012</td>\n",
       "      <td>germany</td>\n",
       "      <td>Borussia Dortmund</td>\n",
       "      <td>Hamburg SV</td>\n",
       "      <td>3</td>\n",
       "      <td>...</td>\n",
       "      <td>NaN</td>\n",
       "      <td>NaN</td>\n",
       "      <td>NaN</td>\n",
       "      <td>NaN</td>\n",
       "      <td>0.0</td>\n",
       "      <td>NaN</td>\n",
       "      <td>NaN</td>\n",
       "      <td>0.0</td>\n",
       "      <td>NaN</td>\n",
       "      <td>0.0</td>\n",
       "    </tr>\n",
       "  </tbody>\n",
       "</table>\n",
       "<p>10 rows × 39 columns</p>\n",
       "</div>"
      ],
      "text/plain": [
       "     id_odsp                                          link_odsp  adv_stats  \\\n",
       "0  UFot0hit/  /soccer/germany/bundesliga-2011-2012/dortmund-...       True   \n",
       "1  UFot0hit/  /soccer/germany/bundesliga-2011-2012/dortmund-...       True   \n",
       "2  UFot0hit/  /soccer/germany/bundesliga-2011-2012/dortmund-...       True   \n",
       "3  UFot0hit/  /soccer/germany/bundesliga-2011-2012/dortmund-...       True   \n",
       "4  UFot0hit/  /soccer/germany/bundesliga-2011-2012/dortmund-...       True   \n",
       "5  UFot0hit/  /soccer/germany/bundesliga-2011-2012/dortmund-...       True   \n",
       "6  UFot0hit/  /soccer/germany/bundesliga-2011-2012/dortmund-...       True   \n",
       "7  UFot0hit/  /soccer/germany/bundesliga-2011-2012/dortmund-...       True   \n",
       "8  UFot0hit/  /soccer/germany/bundesliga-2011-2012/dortmund-...       True   \n",
       "9  UFot0hit/  /soccer/germany/bundesliga-2011-2012/dortmund-...       True   \n",
       "\n",
       "         date league  season  country                 ht          at  fthg  \\\n",
       "0  2011-08-05     D1    2012  germany  Borussia Dortmund  Hamburg SV     3   \n",
       "1  2011-08-05     D1    2012  germany  Borussia Dortmund  Hamburg SV     3   \n",
       "2  2011-08-05     D1    2012  germany  Borussia Dortmund  Hamburg SV     3   \n",
       "3  2011-08-05     D1    2012  germany  Borussia Dortmund  Hamburg SV     3   \n",
       "4  2011-08-05     D1    2012  germany  Borussia Dortmund  Hamburg SV     3   \n",
       "5  2011-08-05     D1    2012  germany  Borussia Dortmund  Hamburg SV     3   \n",
       "6  2011-08-05     D1    2012  germany  Borussia Dortmund  Hamburg SV     3   \n",
       "7  2011-08-05     D1    2012  germany  Borussia Dortmund  Hamburg SV     3   \n",
       "8  2011-08-05     D1    2012  germany  Borussia Dortmund  Hamburg SV     3   \n",
       "9  2011-08-05     D1    2012  germany  Borussia Dortmund  Hamburg SV     3   \n",
       "\n",
       "   ...  player_in  player_out  shot_place  shot_outcome  is_goal  location  \\\n",
       "0  ...        NaN         NaN         6.0           2.0      0.0       9.0   \n",
       "1  ...        NaN         NaN         NaN           NaN      0.0       NaN   \n",
       "2  ...        NaN         NaN         NaN           NaN      0.0       NaN   \n",
       "3  ...        NaN         NaN         NaN           NaN      0.0       NaN   \n",
       "4  ...        NaN         NaN         NaN           NaN      0.0       2.0   \n",
       "5  ...        NaN         NaN         NaN           NaN      0.0       NaN   \n",
       "6  ...        NaN         NaN         NaN           NaN      0.0       NaN   \n",
       "7  ...        NaN         NaN         NaN           NaN      0.0       2.0   \n",
       "8  ...        NaN         NaN         NaN           NaN      0.0       NaN   \n",
       "9  ...        NaN         NaN         NaN           NaN      0.0       NaN   \n",
       "\n",
       "   bodypart  assist_method situation  fast_break  \n",
       "0       2.0            1.0       1.0         0.0  \n",
       "1       NaN            0.0       NaN         0.0  \n",
       "2       NaN            0.0       NaN         0.0  \n",
       "3       NaN            0.0       NaN         0.0  \n",
       "4       NaN            0.0       NaN         0.0  \n",
       "5       NaN            0.0       NaN         0.0  \n",
       "6       NaN            0.0       NaN         0.0  \n",
       "7       NaN            0.0       NaN         0.0  \n",
       "8       NaN            0.0       NaN         0.0  \n",
       "9       NaN            0.0       NaN         0.0  \n",
       "\n",
       "[10 rows x 39 columns]"
      ]
     },
     "execution_count": 8,
     "metadata": {},
     "output_type": "execute_result"
    }
   ],
   "source": [
    "events_data = ginf.merge(events, how=\"left\")\n",
    "events_data.head(10)"
   ]
  },
  {
   "cell_type": "markdown",
   "metadata": {},
   "source": [
    "#### Pre-processing dataset by giving names for events"
   ]
  },
  {
   "cell_type": "markdown",
   "metadata": {},
   "source": [
    "As stated earlier, the text file *dictionary.txt* contains relevant values for different columns in the events dataset. For example, a numerical value of 6.0 for the column *shot_place* denotes \"High and wide\", i.e. the attempted shot went high and wide from the target. Similarly, a numerical value of 2.0 for *shot_outcome* stands for \"Off target\" , i.e. the shot was off target.\n",
    "\n",
    "Below, I have read the text file and replaced the numerical values for each column with the appropriate values corresponding to each numerical value."
   ]
  },
  {
   "cell_type": "code",
   "execution_count": 9,
   "metadata": {},
   "outputs": [
    {
     "data": {
      "text/html": [
       "<div>\n",
       "<style scoped>\n",
       "    .dataframe tbody tr th:only-of-type {\n",
       "        vertical-align: middle;\n",
       "    }\n",
       "\n",
       "    .dataframe tbody tr th {\n",
       "        vertical-align: top;\n",
       "    }\n",
       "\n",
       "    .dataframe thead th {\n",
       "        text-align: right;\n",
       "    }\n",
       "</style>\n",
       "<table border=\"1\" class=\"dataframe\">\n",
       "  <thead>\n",
       "    <tr style=\"text-align: right;\">\n",
       "      <th></th>\n",
       "      <th>id_odsp</th>\n",
       "      <th>link_odsp</th>\n",
       "      <th>adv_stats</th>\n",
       "      <th>date</th>\n",
       "      <th>league</th>\n",
       "      <th>season</th>\n",
       "      <th>country</th>\n",
       "      <th>ht</th>\n",
       "      <th>at</th>\n",
       "      <th>fthg</th>\n",
       "      <th>...</th>\n",
       "      <th>player_in</th>\n",
       "      <th>player_out</th>\n",
       "      <th>shot_place</th>\n",
       "      <th>shot_outcome</th>\n",
       "      <th>is_goal</th>\n",
       "      <th>location</th>\n",
       "      <th>bodypart</th>\n",
       "      <th>assist_method</th>\n",
       "      <th>situation</th>\n",
       "      <th>fast_break</th>\n",
       "    </tr>\n",
       "  </thead>\n",
       "  <tbody>\n",
       "    <tr>\n",
       "      <th>0</th>\n",
       "      <td>UFot0hit/</td>\n",
       "      <td>/soccer/germany/bundesliga-2011-2012/dortmund-...</td>\n",
       "      <td>True</td>\n",
       "      <td>2011-08-05</td>\n",
       "      <td>D1</td>\n",
       "      <td>2012</td>\n",
       "      <td>germany</td>\n",
       "      <td>Borussia Dortmund</td>\n",
       "      <td>Hamburg SV</td>\n",
       "      <td>3</td>\n",
       "      <td>...</td>\n",
       "      <td>NaN</td>\n",
       "      <td>NaN</td>\n",
       "      <td>High and wide</td>\n",
       "      <td>Off target</td>\n",
       "      <td>0.0</td>\n",
       "      <td>Left side of the box</td>\n",
       "      <td>left foot</td>\n",
       "      <td>Pass</td>\n",
       "      <td>Open play</td>\n",
       "      <td>0.0</td>\n",
       "    </tr>\n",
       "    <tr>\n",
       "      <th>1</th>\n",
       "      <td>UFot0hit/</td>\n",
       "      <td>/soccer/germany/bundesliga-2011-2012/dortmund-...</td>\n",
       "      <td>True</td>\n",
       "      <td>2011-08-05</td>\n",
       "      <td>D1</td>\n",
       "      <td>2012</td>\n",
       "      <td>germany</td>\n",
       "      <td>Borussia Dortmund</td>\n",
       "      <td>Hamburg SV</td>\n",
       "      <td>3</td>\n",
       "      <td>...</td>\n",
       "      <td>NaN</td>\n",
       "      <td>NaN</td>\n",
       "      <td>NaN</td>\n",
       "      <td>NaN</td>\n",
       "      <td>0.0</td>\n",
       "      <td>NaN</td>\n",
       "      <td>NaN</td>\n",
       "      <td>None</td>\n",
       "      <td>NaN</td>\n",
       "      <td>0.0</td>\n",
       "    </tr>\n",
       "    <tr>\n",
       "      <th>2</th>\n",
       "      <td>UFot0hit/</td>\n",
       "      <td>/soccer/germany/bundesliga-2011-2012/dortmund-...</td>\n",
       "      <td>True</td>\n",
       "      <td>2011-08-05</td>\n",
       "      <td>D1</td>\n",
       "      <td>2012</td>\n",
       "      <td>germany</td>\n",
       "      <td>Borussia Dortmund</td>\n",
       "      <td>Hamburg SV</td>\n",
       "      <td>3</td>\n",
       "      <td>...</td>\n",
       "      <td>NaN</td>\n",
       "      <td>NaN</td>\n",
       "      <td>NaN</td>\n",
       "      <td>NaN</td>\n",
       "      <td>0.0</td>\n",
       "      <td>NaN</td>\n",
       "      <td>NaN</td>\n",
       "      <td>None</td>\n",
       "      <td>NaN</td>\n",
       "      <td>0.0</td>\n",
       "    </tr>\n",
       "    <tr>\n",
       "      <th>3</th>\n",
       "      <td>UFot0hit/</td>\n",
       "      <td>/soccer/germany/bundesliga-2011-2012/dortmund-...</td>\n",
       "      <td>True</td>\n",
       "      <td>2011-08-05</td>\n",
       "      <td>D1</td>\n",
       "      <td>2012</td>\n",
       "      <td>germany</td>\n",
       "      <td>Borussia Dortmund</td>\n",
       "      <td>Hamburg SV</td>\n",
       "      <td>3</td>\n",
       "      <td>...</td>\n",
       "      <td>NaN</td>\n",
       "      <td>NaN</td>\n",
       "      <td>NaN</td>\n",
       "      <td>NaN</td>\n",
       "      <td>0.0</td>\n",
       "      <td>NaN</td>\n",
       "      <td>NaN</td>\n",
       "      <td>None</td>\n",
       "      <td>NaN</td>\n",
       "      <td>0.0</td>\n",
       "    </tr>\n",
       "    <tr>\n",
       "      <th>4</th>\n",
       "      <td>UFot0hit/</td>\n",
       "      <td>/soccer/germany/bundesliga-2011-2012/dortmund-...</td>\n",
       "      <td>True</td>\n",
       "      <td>2011-08-05</td>\n",
       "      <td>D1</td>\n",
       "      <td>2012</td>\n",
       "      <td>germany</td>\n",
       "      <td>Borussia Dortmund</td>\n",
       "      <td>Hamburg SV</td>\n",
       "      <td>3</td>\n",
       "      <td>...</td>\n",
       "      <td>NaN</td>\n",
       "      <td>NaN</td>\n",
       "      <td>NaN</td>\n",
       "      <td>NaN</td>\n",
       "      <td>0.0</td>\n",
       "      <td>Defensive half</td>\n",
       "      <td>NaN</td>\n",
       "      <td>None</td>\n",
       "      <td>NaN</td>\n",
       "      <td>0.0</td>\n",
       "    </tr>\n",
       "    <tr>\n",
       "      <th>5</th>\n",
       "      <td>UFot0hit/</td>\n",
       "      <td>/soccer/germany/bundesliga-2011-2012/dortmund-...</td>\n",
       "      <td>True</td>\n",
       "      <td>2011-08-05</td>\n",
       "      <td>D1</td>\n",
       "      <td>2012</td>\n",
       "      <td>germany</td>\n",
       "      <td>Borussia Dortmund</td>\n",
       "      <td>Hamburg SV</td>\n",
       "      <td>3</td>\n",
       "      <td>...</td>\n",
       "      <td>NaN</td>\n",
       "      <td>NaN</td>\n",
       "      <td>NaN</td>\n",
       "      <td>NaN</td>\n",
       "      <td>0.0</td>\n",
       "      <td>NaN</td>\n",
       "      <td>NaN</td>\n",
       "      <td>None</td>\n",
       "      <td>NaN</td>\n",
       "      <td>0.0</td>\n",
       "    </tr>\n",
       "    <tr>\n",
       "      <th>6</th>\n",
       "      <td>UFot0hit/</td>\n",
       "      <td>/soccer/germany/bundesliga-2011-2012/dortmund-...</td>\n",
       "      <td>True</td>\n",
       "      <td>2011-08-05</td>\n",
       "      <td>D1</td>\n",
       "      <td>2012</td>\n",
       "      <td>germany</td>\n",
       "      <td>Borussia Dortmund</td>\n",
       "      <td>Hamburg SV</td>\n",
       "      <td>3</td>\n",
       "      <td>...</td>\n",
       "      <td>NaN</td>\n",
       "      <td>NaN</td>\n",
       "      <td>NaN</td>\n",
       "      <td>NaN</td>\n",
       "      <td>0.0</td>\n",
       "      <td>NaN</td>\n",
       "      <td>NaN</td>\n",
       "      <td>None</td>\n",
       "      <td>NaN</td>\n",
       "      <td>0.0</td>\n",
       "    </tr>\n",
       "    <tr>\n",
       "      <th>7</th>\n",
       "      <td>UFot0hit/</td>\n",
       "      <td>/soccer/germany/bundesliga-2011-2012/dortmund-...</td>\n",
       "      <td>True</td>\n",
       "      <td>2011-08-05</td>\n",
       "      <td>D1</td>\n",
       "      <td>2012</td>\n",
       "      <td>germany</td>\n",
       "      <td>Borussia Dortmund</td>\n",
       "      <td>Hamburg SV</td>\n",
       "      <td>3</td>\n",
       "      <td>...</td>\n",
       "      <td>NaN</td>\n",
       "      <td>NaN</td>\n",
       "      <td>NaN</td>\n",
       "      <td>NaN</td>\n",
       "      <td>0.0</td>\n",
       "      <td>Defensive half</td>\n",
       "      <td>NaN</td>\n",
       "      <td>None</td>\n",
       "      <td>NaN</td>\n",
       "      <td>0.0</td>\n",
       "    </tr>\n",
       "    <tr>\n",
       "      <th>8</th>\n",
       "      <td>UFot0hit/</td>\n",
       "      <td>/soccer/germany/bundesliga-2011-2012/dortmund-...</td>\n",
       "      <td>True</td>\n",
       "      <td>2011-08-05</td>\n",
       "      <td>D1</td>\n",
       "      <td>2012</td>\n",
       "      <td>germany</td>\n",
       "      <td>Borussia Dortmund</td>\n",
       "      <td>Hamburg SV</td>\n",
       "      <td>3</td>\n",
       "      <td>...</td>\n",
       "      <td>NaN</td>\n",
       "      <td>NaN</td>\n",
       "      <td>NaN</td>\n",
       "      <td>NaN</td>\n",
       "      <td>0.0</td>\n",
       "      <td>NaN</td>\n",
       "      <td>NaN</td>\n",
       "      <td>None</td>\n",
       "      <td>NaN</td>\n",
       "      <td>0.0</td>\n",
       "    </tr>\n",
       "    <tr>\n",
       "      <th>9</th>\n",
       "      <td>UFot0hit/</td>\n",
       "      <td>/soccer/germany/bundesliga-2011-2012/dortmund-...</td>\n",
       "      <td>True</td>\n",
       "      <td>2011-08-05</td>\n",
       "      <td>D1</td>\n",
       "      <td>2012</td>\n",
       "      <td>germany</td>\n",
       "      <td>Borussia Dortmund</td>\n",
       "      <td>Hamburg SV</td>\n",
       "      <td>3</td>\n",
       "      <td>...</td>\n",
       "      <td>NaN</td>\n",
       "      <td>NaN</td>\n",
       "      <td>NaN</td>\n",
       "      <td>NaN</td>\n",
       "      <td>0.0</td>\n",
       "      <td>NaN</td>\n",
       "      <td>NaN</td>\n",
       "      <td>None</td>\n",
       "      <td>NaN</td>\n",
       "      <td>0.0</td>\n",
       "    </tr>\n",
       "  </tbody>\n",
       "</table>\n",
       "<p>10 rows × 39 columns</p>\n",
       "</div>"
      ],
      "text/plain": [
       "     id_odsp                                          link_odsp  adv_stats  \\\n",
       "0  UFot0hit/  /soccer/germany/bundesliga-2011-2012/dortmund-...       True   \n",
       "1  UFot0hit/  /soccer/germany/bundesliga-2011-2012/dortmund-...       True   \n",
       "2  UFot0hit/  /soccer/germany/bundesliga-2011-2012/dortmund-...       True   \n",
       "3  UFot0hit/  /soccer/germany/bundesliga-2011-2012/dortmund-...       True   \n",
       "4  UFot0hit/  /soccer/germany/bundesliga-2011-2012/dortmund-...       True   \n",
       "5  UFot0hit/  /soccer/germany/bundesliga-2011-2012/dortmund-...       True   \n",
       "6  UFot0hit/  /soccer/germany/bundesliga-2011-2012/dortmund-...       True   \n",
       "7  UFot0hit/  /soccer/germany/bundesliga-2011-2012/dortmund-...       True   \n",
       "8  UFot0hit/  /soccer/germany/bundesliga-2011-2012/dortmund-...       True   \n",
       "9  UFot0hit/  /soccer/germany/bundesliga-2011-2012/dortmund-...       True   \n",
       "\n",
       "         date league  season  country                 ht          at  fthg  \\\n",
       "0  2011-08-05     D1    2012  germany  Borussia Dortmund  Hamburg SV     3   \n",
       "1  2011-08-05     D1    2012  germany  Borussia Dortmund  Hamburg SV     3   \n",
       "2  2011-08-05     D1    2012  germany  Borussia Dortmund  Hamburg SV     3   \n",
       "3  2011-08-05     D1    2012  germany  Borussia Dortmund  Hamburg SV     3   \n",
       "4  2011-08-05     D1    2012  germany  Borussia Dortmund  Hamburg SV     3   \n",
       "5  2011-08-05     D1    2012  germany  Borussia Dortmund  Hamburg SV     3   \n",
       "6  2011-08-05     D1    2012  germany  Borussia Dortmund  Hamburg SV     3   \n",
       "7  2011-08-05     D1    2012  germany  Borussia Dortmund  Hamburg SV     3   \n",
       "8  2011-08-05     D1    2012  germany  Borussia Dortmund  Hamburg SV     3   \n",
       "9  2011-08-05     D1    2012  germany  Borussia Dortmund  Hamburg SV     3   \n",
       "\n",
       "   ...  player_in  player_out     shot_place  shot_outcome  is_goal  \\\n",
       "0  ...        NaN         NaN  High and wide    Off target      0.0   \n",
       "1  ...        NaN         NaN            NaN           NaN      0.0   \n",
       "2  ...        NaN         NaN            NaN           NaN      0.0   \n",
       "3  ...        NaN         NaN            NaN           NaN      0.0   \n",
       "4  ...        NaN         NaN            NaN           NaN      0.0   \n",
       "5  ...        NaN         NaN            NaN           NaN      0.0   \n",
       "6  ...        NaN         NaN            NaN           NaN      0.0   \n",
       "7  ...        NaN         NaN            NaN           NaN      0.0   \n",
       "8  ...        NaN         NaN            NaN           NaN      0.0   \n",
       "9  ...        NaN         NaN            NaN           NaN      0.0   \n",
       "\n",
       "               location   bodypart  assist_method  situation  fast_break  \n",
       "0  Left side of the box  left foot           Pass  Open play         0.0  \n",
       "1                   NaN        NaN           None        NaN         0.0  \n",
       "2                   NaN        NaN           None        NaN         0.0  \n",
       "3                   NaN        NaN           None        NaN         0.0  \n",
       "4        Defensive half        NaN           None        NaN         0.0  \n",
       "5                   NaN        NaN           None        NaN         0.0  \n",
       "6                   NaN        NaN           None        NaN         0.0  \n",
       "7        Defensive half        NaN           None        NaN         0.0  \n",
       "8                   NaN        NaN           None        NaN         0.0  \n",
       "9                   NaN        NaN           None        NaN         0.0  \n",
       "\n",
       "[10 rows x 39 columns]"
      ]
     },
     "execution_count": 9,
     "metadata": {},
     "output_type": "execute_result"
    }
   ],
   "source": [
    "new = dict()\n",
    "with open(\"Data/dictionary.txt\") as f:\n",
    "    data = f.read()\n",
    "data = data.split(\"\\n\\n\\n\")\n",
    "for i in range(len(data)):\n",
    "    if data[i]:\n",
    "        variable = data[i].split(\"\\n\")[0]\n",
    "        values = data[i].split(\"\\n\")[1:]\n",
    "        new[variable] = {int(val.split(\"\\t\")[0]):val.split(\"\\t\")[1] for val in values}\n",
    "        \n",
    "for name in new:\n",
    "    events_data[name] = events_data[name].map(new[name])\n",
    "\n",
    "events_data.head(10)"
   ]
  },
  {
   "cell_type": "markdown",
   "metadata": {},
   "source": [
    "### Filtering events for Lionel Messi"
   ]
  },
  {
   "cell_type": "markdown",
   "metadata": {},
   "source": [
    "Since we are interested in analysing Lionel Messi's career, I have filtered only those events from the DataFrame *events_data* that involve Lionel Messi, exluding all other events."
   ]
  },
  {
   "cell_type": "code",
   "execution_count": 10,
   "metadata": {},
   "outputs": [
    {
     "data": {
      "text/html": [
       "<div>\n",
       "<style scoped>\n",
       "    .dataframe tbody tr th:only-of-type {\n",
       "        vertical-align: middle;\n",
       "    }\n",
       "\n",
       "    .dataframe tbody tr th {\n",
       "        vertical-align: top;\n",
       "    }\n",
       "\n",
       "    .dataframe thead th {\n",
       "        text-align: right;\n",
       "    }\n",
       "</style>\n",
       "<table border=\"1\" class=\"dataframe\">\n",
       "  <thead>\n",
       "    <tr style=\"text-align: right;\">\n",
       "      <th></th>\n",
       "      <th>id_odsp</th>\n",
       "      <th>link_odsp</th>\n",
       "      <th>adv_stats</th>\n",
       "      <th>date</th>\n",
       "      <th>league</th>\n",
       "      <th>season</th>\n",
       "      <th>country</th>\n",
       "      <th>ht</th>\n",
       "      <th>at</th>\n",
       "      <th>fthg</th>\n",
       "      <th>...</th>\n",
       "      <th>player_in</th>\n",
       "      <th>player_out</th>\n",
       "      <th>shot_place</th>\n",
       "      <th>shot_outcome</th>\n",
       "      <th>is_goal</th>\n",
       "      <th>location</th>\n",
       "      <th>bodypart</th>\n",
       "      <th>assist_method</th>\n",
       "      <th>situation</th>\n",
       "      <th>fast_break</th>\n",
       "    </tr>\n",
       "  </thead>\n",
       "  <tbody>\n",
       "    <tr>\n",
       "      <th>9142</th>\n",
       "      <td>2mfCxQlt/</td>\n",
       "      <td>/soccer/spain/primera-division-2011-2012/barce...</td>\n",
       "      <td>True</td>\n",
       "      <td>2011-08-29</td>\n",
       "      <td>SP1</td>\n",
       "      <td>2012</td>\n",
       "      <td>spain</td>\n",
       "      <td>Barcelona</td>\n",
       "      <td>Villarreal</td>\n",
       "      <td>5</td>\n",
       "      <td>...</td>\n",
       "      <td>NaN</td>\n",
       "      <td>NaN</td>\n",
       "      <td>NaN</td>\n",
       "      <td>NaN</td>\n",
       "      <td>0.0</td>\n",
       "      <td>NaN</td>\n",
       "      <td>NaN</td>\n",
       "      <td>None</td>\n",
       "      <td>NaN</td>\n",
       "      <td>0.0</td>\n",
       "    </tr>\n",
       "    <tr>\n",
       "      <th>9147</th>\n",
       "      <td>2mfCxQlt/</td>\n",
       "      <td>/soccer/spain/primera-division-2011-2012/barce...</td>\n",
       "      <td>True</td>\n",
       "      <td>2011-08-29</td>\n",
       "      <td>SP1</td>\n",
       "      <td>2012</td>\n",
       "      <td>spain</td>\n",
       "      <td>Barcelona</td>\n",
       "      <td>Villarreal</td>\n",
       "      <td>5</td>\n",
       "      <td>...</td>\n",
       "      <td>NaN</td>\n",
       "      <td>NaN</td>\n",
       "      <td>Bottom left corner</td>\n",
       "      <td>On target</td>\n",
       "      <td>0.0</td>\n",
       "      <td>Difficult angle on the left</td>\n",
       "      <td>left foot</td>\n",
       "      <td>Pass</td>\n",
       "      <td>Open play</td>\n",
       "      <td>0.0</td>\n",
       "    </tr>\n",
       "    <tr>\n",
       "      <th>9151</th>\n",
       "      <td>2mfCxQlt/</td>\n",
       "      <td>/soccer/spain/primera-division-2011-2012/barce...</td>\n",
       "      <td>True</td>\n",
       "      <td>2011-08-29</td>\n",
       "      <td>SP1</td>\n",
       "      <td>2012</td>\n",
       "      <td>spain</td>\n",
       "      <td>Barcelona</td>\n",
       "      <td>Villarreal</td>\n",
       "      <td>5</td>\n",
       "      <td>...</td>\n",
       "      <td>NaN</td>\n",
       "      <td>NaN</td>\n",
       "      <td>Bottom right corner</td>\n",
       "      <td>On target</td>\n",
       "      <td>0.0</td>\n",
       "      <td>Outside the box</td>\n",
       "      <td>left foot</td>\n",
       "      <td>None</td>\n",
       "      <td>Open play</td>\n",
       "      <td>0.0</td>\n",
       "    </tr>\n",
       "    <tr>\n",
       "      <th>9155</th>\n",
       "      <td>2mfCxQlt/</td>\n",
       "      <td>/soccer/spain/primera-division-2011-2012/barce...</td>\n",
       "      <td>True</td>\n",
       "      <td>2011-08-29</td>\n",
       "      <td>SP1</td>\n",
       "      <td>2012</td>\n",
       "      <td>spain</td>\n",
       "      <td>Barcelona</td>\n",
       "      <td>Villarreal</td>\n",
       "      <td>5</td>\n",
       "      <td>...</td>\n",
       "      <td>NaN</td>\n",
       "      <td>NaN</td>\n",
       "      <td>NaN</td>\n",
       "      <td>NaN</td>\n",
       "      <td>0.0</td>\n",
       "      <td>Attacking half</td>\n",
       "      <td>NaN</td>\n",
       "      <td>None</td>\n",
       "      <td>NaN</td>\n",
       "      <td>0.0</td>\n",
       "    </tr>\n",
       "    <tr>\n",
       "      <th>9164</th>\n",
       "      <td>2mfCxQlt/</td>\n",
       "      <td>/soccer/spain/primera-division-2011-2012/barce...</td>\n",
       "      <td>True</td>\n",
       "      <td>2011-08-29</td>\n",
       "      <td>SP1</td>\n",
       "      <td>2012</td>\n",
       "      <td>spain</td>\n",
       "      <td>Barcelona</td>\n",
       "      <td>Villarreal</td>\n",
       "      <td>5</td>\n",
       "      <td>...</td>\n",
       "      <td>NaN</td>\n",
       "      <td>NaN</td>\n",
       "      <td>NaN</td>\n",
       "      <td>NaN</td>\n",
       "      <td>0.0</td>\n",
       "      <td>Attacking half</td>\n",
       "      <td>NaN</td>\n",
       "      <td>None</td>\n",
       "      <td>NaN</td>\n",
       "      <td>0.0</td>\n",
       "    </tr>\n",
       "    <tr>\n",
       "      <th>9192</th>\n",
       "      <td>2mfCxQlt/</td>\n",
       "      <td>/soccer/spain/primera-division-2011-2012/barce...</td>\n",
       "      <td>True</td>\n",
       "      <td>2011-08-29</td>\n",
       "      <td>SP1</td>\n",
       "      <td>2012</td>\n",
       "      <td>spain</td>\n",
       "      <td>Barcelona</td>\n",
       "      <td>Villarreal</td>\n",
       "      <td>5</td>\n",
       "      <td>...</td>\n",
       "      <td>NaN</td>\n",
       "      <td>NaN</td>\n",
       "      <td>Bottom right corner</td>\n",
       "      <td>On target</td>\n",
       "      <td>1.0</td>\n",
       "      <td>Right side of the six yard box</td>\n",
       "      <td>right foot</td>\n",
       "      <td>Through ball</td>\n",
       "      <td>Open play</td>\n",
       "      <td>0.0</td>\n",
       "    </tr>\n",
       "    <tr>\n",
       "      <th>9205</th>\n",
       "      <td>2mfCxQlt/</td>\n",
       "      <td>/soccer/spain/primera-division-2011-2012/barce...</td>\n",
       "      <td>True</td>\n",
       "      <td>2011-08-29</td>\n",
       "      <td>SP1</td>\n",
       "      <td>2012</td>\n",
       "      <td>spain</td>\n",
       "      <td>Barcelona</td>\n",
       "      <td>Villarreal</td>\n",
       "      <td>5</td>\n",
       "      <td>...</td>\n",
       "      <td>NaN</td>\n",
       "      <td>NaN</td>\n",
       "      <td>Centre of the goal</td>\n",
       "      <td>On target</td>\n",
       "      <td>0.0</td>\n",
       "      <td>Left side of the box</td>\n",
       "      <td>left foot</td>\n",
       "      <td>Pass</td>\n",
       "      <td>Open play</td>\n",
       "      <td>0.0</td>\n",
       "    </tr>\n",
       "    <tr>\n",
       "      <th>9211</th>\n",
       "      <td>2mfCxQlt/</td>\n",
       "      <td>/soccer/spain/primera-division-2011-2012/barce...</td>\n",
       "      <td>True</td>\n",
       "      <td>2011-08-29</td>\n",
       "      <td>SP1</td>\n",
       "      <td>2012</td>\n",
       "      <td>spain</td>\n",
       "      <td>Barcelona</td>\n",
       "      <td>Villarreal</td>\n",
       "      <td>5</td>\n",
       "      <td>...</td>\n",
       "      <td>NaN</td>\n",
       "      <td>NaN</td>\n",
       "      <td>NaN</td>\n",
       "      <td>NaN</td>\n",
       "      <td>0.0</td>\n",
       "      <td>Attacking half</td>\n",
       "      <td>NaN</td>\n",
       "      <td>None</td>\n",
       "      <td>NaN</td>\n",
       "      <td>0.0</td>\n",
       "    </tr>\n",
       "    <tr>\n",
       "      <th>9212</th>\n",
       "      <td>2mfCxQlt/</td>\n",
       "      <td>/soccer/spain/primera-division-2011-2012/barce...</td>\n",
       "      <td>True</td>\n",
       "      <td>2011-08-29</td>\n",
       "      <td>SP1</td>\n",
       "      <td>2012</td>\n",
       "      <td>spain</td>\n",
       "      <td>Barcelona</td>\n",
       "      <td>Villarreal</td>\n",
       "      <td>5</td>\n",
       "      <td>...</td>\n",
       "      <td>NaN</td>\n",
       "      <td>NaN</td>\n",
       "      <td>Centre of the goal</td>\n",
       "      <td>On target</td>\n",
       "      <td>1.0</td>\n",
       "      <td>Very close range</td>\n",
       "      <td>left foot</td>\n",
       "      <td>Pass</td>\n",
       "      <td>Open play</td>\n",
       "      <td>0.0</td>\n",
       "    </tr>\n",
       "    <tr>\n",
       "      <th>10952</th>\n",
       "      <td>vJhKQJeo/</td>\n",
       "      <td>/soccer/spain/primera-division-2011-2012/real-...</td>\n",
       "      <td>True</td>\n",
       "      <td>2011-09-10</td>\n",
       "      <td>SP1</td>\n",
       "      <td>2012</td>\n",
       "      <td>spain</td>\n",
       "      <td>Real Sociedad</td>\n",
       "      <td>Barcelona</td>\n",
       "      <td>2</td>\n",
       "      <td>...</td>\n",
       "      <td>NaN</td>\n",
       "      <td>NaN</td>\n",
       "      <td>NaN</td>\n",
       "      <td>NaN</td>\n",
       "      <td>0.0</td>\n",
       "      <td>NaN</td>\n",
       "      <td>NaN</td>\n",
       "      <td>None</td>\n",
       "      <td>NaN</td>\n",
       "      <td>0.0</td>\n",
       "    </tr>\n",
       "  </tbody>\n",
       "</table>\n",
       "<p>10 rows × 39 columns</p>\n",
       "</div>"
      ],
      "text/plain": [
       "         id_odsp                                          link_odsp  \\\n",
       "9142   2mfCxQlt/  /soccer/spain/primera-division-2011-2012/barce...   \n",
       "9147   2mfCxQlt/  /soccer/spain/primera-division-2011-2012/barce...   \n",
       "9151   2mfCxQlt/  /soccer/spain/primera-division-2011-2012/barce...   \n",
       "9155   2mfCxQlt/  /soccer/spain/primera-division-2011-2012/barce...   \n",
       "9164   2mfCxQlt/  /soccer/spain/primera-division-2011-2012/barce...   \n",
       "9192   2mfCxQlt/  /soccer/spain/primera-division-2011-2012/barce...   \n",
       "9205   2mfCxQlt/  /soccer/spain/primera-division-2011-2012/barce...   \n",
       "9211   2mfCxQlt/  /soccer/spain/primera-division-2011-2012/barce...   \n",
       "9212   2mfCxQlt/  /soccer/spain/primera-division-2011-2012/barce...   \n",
       "10952  vJhKQJeo/  /soccer/spain/primera-division-2011-2012/real-...   \n",
       "\n",
       "       adv_stats        date league  season country             ht  \\\n",
       "9142        True  2011-08-29    SP1    2012   spain      Barcelona   \n",
       "9147        True  2011-08-29    SP1    2012   spain      Barcelona   \n",
       "9151        True  2011-08-29    SP1    2012   spain      Barcelona   \n",
       "9155        True  2011-08-29    SP1    2012   spain      Barcelona   \n",
       "9164        True  2011-08-29    SP1    2012   spain      Barcelona   \n",
       "9192        True  2011-08-29    SP1    2012   spain      Barcelona   \n",
       "9205        True  2011-08-29    SP1    2012   spain      Barcelona   \n",
       "9211        True  2011-08-29    SP1    2012   spain      Barcelona   \n",
       "9212        True  2011-08-29    SP1    2012   spain      Barcelona   \n",
       "10952       True  2011-09-10    SP1    2012   spain  Real Sociedad   \n",
       "\n",
       "               at  fthg  ...  player_in  player_out           shot_place  \\\n",
       "9142   Villarreal     5  ...        NaN         NaN                  NaN   \n",
       "9147   Villarreal     5  ...        NaN         NaN   Bottom left corner   \n",
       "9151   Villarreal     5  ...        NaN         NaN  Bottom right corner   \n",
       "9155   Villarreal     5  ...        NaN         NaN                  NaN   \n",
       "9164   Villarreal     5  ...        NaN         NaN                  NaN   \n",
       "9192   Villarreal     5  ...        NaN         NaN  Bottom right corner   \n",
       "9205   Villarreal     5  ...        NaN         NaN   Centre of the goal   \n",
       "9211   Villarreal     5  ...        NaN         NaN                  NaN   \n",
       "9212   Villarreal     5  ...        NaN         NaN   Centre of the goal   \n",
       "10952   Barcelona     2  ...        NaN         NaN                  NaN   \n",
       "\n",
       "       shot_outcome  is_goal                        location    bodypart  \\\n",
       "9142            NaN      0.0                             NaN         NaN   \n",
       "9147      On target      0.0     Difficult angle on the left   left foot   \n",
       "9151      On target      0.0                 Outside the box   left foot   \n",
       "9155            NaN      0.0                  Attacking half         NaN   \n",
       "9164            NaN      0.0                  Attacking half         NaN   \n",
       "9192      On target      1.0  Right side of the six yard box  right foot   \n",
       "9205      On target      0.0            Left side of the box   left foot   \n",
       "9211            NaN      0.0                  Attacking half         NaN   \n",
       "9212      On target      1.0                Very close range   left foot   \n",
       "10952           NaN      0.0                             NaN         NaN   \n",
       "\n",
       "       assist_method  situation  fast_break  \n",
       "9142            None        NaN         0.0  \n",
       "9147            Pass  Open play         0.0  \n",
       "9151            None  Open play         0.0  \n",
       "9155            None        NaN         0.0  \n",
       "9164            None        NaN         0.0  \n",
       "9192    Through ball  Open play         0.0  \n",
       "9205            Pass  Open play         0.0  \n",
       "9211            None        NaN         0.0  \n",
       "9212            Pass  Open play         0.0  \n",
       "10952           None        NaN         0.0  \n",
       "\n",
       "[10 rows x 39 columns]"
      ]
     },
     "execution_count": 10,
     "metadata": {},
     "output_type": "execute_result"
    }
   ],
   "source": [
    "lionel_messi_events = events_data.loc[events_data[\"player\"]==\"lionel messi\"]\n",
    "lionel_messi_events.head(10)"
   ]
  },
  {
   "cell_type": "markdown",
   "metadata": {},
   "source": [
    "### Computing crucial statistics"
   ]
  },
  {
   "cell_type": "markdown",
   "metadata": {},
   "source": [
    "In order to perform the analysis, I have computed various statistics that are crucial to describe a footballer's performance.\n",
    "\n",
    "For a forward (and #10) the most important stats are **average goals per game**, **attempts** as well as **efficiency** from free-kicks and penalties. These can be considered as some of the **Key Performance Indicators (KPIs)** for a striker such as Lionel Messi.\n",
    "\n",
    "Let's take a look at these stats to better understand and analysis Leo's career at FC Bercelona."
   ]
  },
  {
   "cell_type": "markdown",
   "metadata": {},
   "source": [
    "#### 1. Average Goals per Game (GPG)"
   ]
  },
  {
   "cell_type": "markdown",
   "metadata": {},
   "source": [
    "**Average Goals per Game (GPG)** can be defined as the number of goals a player is expected to score per match that he plays. It is an important statistic to determine how good a player is when it comes to scoring goals in games and canm be calculated by dividing the total number of goals scored by the total number of matches played.\n",
    "\n",
    "Based on the data available in the football events dataset, I have plotted the average GPG for Lionel Messi over multiple seasons. The overall average GPG is also shown below."
   ]
  },
  {
   "cell_type": "code",
   "execution_count": 11,
   "metadata": {},
   "outputs": [],
   "source": [
    "# Filtering goals scored by Lionel Messi\n",
    "lionel_messi_goals = lionel_messi_events.loc[events_data[\"is_goal\"]==1 & (events_data[\"event_type2\"]!=\"Own goal\")]\n",
    "\n",
    "# Average goals-per-game (GPG) by season and overall\n",
    "lionel_messi_matches = lionel_messi_events.groupby([\"id_odsp\", \"season\"])[\"is_goal\"].sum().reset_index()\n",
    "avg_GPG = pd.DataFrame({\"avg_GPG\" : (lionel_messi_goals.groupby(\"season\").count().is_goal) / (lionel_messi_matches.groupby(\"season\").count().id_odsp)}).reset_index()"
   ]
  },
  {
   "cell_type": "code",
   "execution_count": 12,
   "metadata": {},
   "outputs": [
    {
     "data": {
      "image/png": "[encoded data removed]",
      "text/plain": [
       "<Figure size 432x288 with 1 Axes>"
      ]
     },
     "metadata": {
      "needs_background": "light"
     },
     "output_type": "display_data"
    }
   ],
   "source": [
    "# Plot average goals per game by season\n",
    "plt.plot(avg_GPG[\"season\"], avg_GPG[\"avg_GPG\"])\n",
    "plt.title(\"Average Goals per Game per Season\")\n",
    "plt.xlabel(\"Season\")\n",
    "plt.ylabel(\"Average GPG\")\n",
    "plt.yticks(np.arange(0, 3, step=0.2))\n",
    "plt.show()"
   ]
  },
  {
   "cell_type": "code",
   "execution_count": 13,
   "metadata": {},
   "outputs": [
    {
     "name": "stdout",
     "output_type": "stream",
     "text": [
      "\n",
      "Number of matches played:  178\n",
      "Number of goals scored:  205\n",
      "Overall Average GPG:  1.13\n"
     ]
    }
   ],
   "source": [
    "print(\"\\nNumber of matches played: \", lionel_messi_matches.count().id_odsp)\n",
    "print(\"Number of goals scored: \", lionel_messi_goals.count().id_odsp)\n",
    "print(\"Overall Average GPG: \", round(avg_GPG.mean().avg_GPG, 2))"
   ]
  },
  {
   "cell_type": "markdown",
   "metadata": {},
   "source": [
    "Lionel Messi has maintained an average GPG value of **1.13**, meaning that on average Leo scored atleast 1 goal in each match that he played. That is a fairly impressive stat for a striker in terms of goal-scoring ability.\n",
    "\n",
    "But how does Leo manage to score, on average, 1 goal in each game that he plays. To better understand this, let's have alook at his attempt statistics, which includes the number of attempts at goal made by Leo per match."
   ]
  },
  {
   "cell_type": "markdown",
   "metadata": {},
   "source": [
    "#### 2. Attempt Statistics"
   ]
  },
  {
   "cell_type": "code",
   "execution_count": 14,
   "metadata": {},
   "outputs": [
    {
     "name": "stdout",
     "output_type": "stream",
     "text": [
      "\n",
      "Number of attempts made:  914\n",
      "Number of attempts per match:  5.1348\n",
      "Attempts per goal:  4.4585\n"
     ]
    }
   ],
   "source": [
    "# Filtering attempts made by Lionel Messi\n",
    "lionel_messi_attempts = lionel_messi_events.loc[lionel_messi_events[\"event_type\"]==\"Attempt\"]\n",
    "print(\"\\nNumber of attempts made: \", lionel_messi_attempts.count().id_odsp)\n",
    "print(\"Number of attempts per match: \", round((lionel_messi_attempts.count().id_odsp) / (lionel_messi_matches.count().id_odsp), 4))\n",
    "\n",
    "# Attempts per goal\n",
    "print(\"Attempts per goal: \", round((lionel_messi_attempts.count().id_odsp) / (lionel_messi_goals.count().id_odsp), 4))"
   ]
  },
  {
   "cell_type": "markdown",
   "metadata": {},
   "source": [
    "Although Leo takes an average of **4.45 attempts at goal to actually score a goal**, he manages to get a goal in each game by registering multiple attempts at goal, with an average of **5.13 attempts at goal per match**. Due to this high number of attempts at goal, Leo ends up scoring atleast 1 goal from the multiple attempts.\n",
    "\n",
    "Having more than 5 attempts at goal on average is a great indication of the hunger Leo has for scoring goal and winning games, making him one of the greatest footballers we know."
   ]
  },
  {
   "cell_type": "markdown",
   "metadata": {},
   "source": [
    "#### 3. Free kicks and Penalties"
   ]
  },
  {
   "cell_type": "markdown",
   "metadata": {},
   "source": [
    "Let's not look at how Messi performs from spot-kicks such as penalties and free-kicks."
   ]
  },
  {
   "cell_type": "code",
   "execution_count": 15,
   "metadata": {},
   "outputs": [
    {
     "name": "stdout",
     "output_type": "stream",
     "text": [
      "\n",
      "Number of penalties:  37\n",
      "Number of goals from penalties:  30\n",
      "Penalty efficiency:  0.8108\n"
     ]
    }
   ],
   "source": [
    "# Filtering penalties\n",
    "lionel_messi_penalties = lionel_messi_events.loc[lionel_messi_events[\"location\"]==\"Penalty spot\"]\n",
    "\n",
    "# Penalty efficiency\n",
    "penalty_goals = lionel_messi_penalties.loc[lionel_messi_penalties[\"is_goal\"]==1]\n",
    "print(\"\\nNumber of penalties: \", lionel_messi_penalties.count().id_odsp)\n",
    "print(\"Number of goals from penalties: \", penalty_goals.count().id_odsp)\n",
    "print(\"Penalty efficiency: \", round((penalty_goals.count().id_odsp) / (lionel_messi_penalties.count().id_odsp), 4))"
   ]
  },
  {
   "cell_type": "markdown",
   "metadata": {},
   "source": [
    "Of the 37 penalties that Leo has attempted, 30 touched the back of the net, giving Leo a penalty efficiency of **81%**. \"Impressive\" would be an understatement here."
   ]
  },
  {
   "cell_type": "code",
   "execution_count": 16,
   "metadata": {},
   "outputs": [
    {
     "name": "stdout",
     "output_type": "stream",
     "text": [
      "\n",
      "Number of free kicks:  86\n",
      "Number of goals from free kicks:  14\n",
      "Free kick efficiency:  0.1628\n"
     ]
    }
   ],
   "source": [
    "# Filtering free kicks\n",
    "lionel_messi_free_kicks = lionel_messi_events.loc[lionel_messi_events[\"situation\"]==\"Free kick\"]\n",
    "\n",
    "# Free kick efficiency\n",
    "free_kick_goals = lionel_messi_free_kicks.loc[lionel_messi_free_kicks[\"is_goal\"]==1]\n",
    "print(\"\\nNumber of free kicks: \", lionel_messi_free_kicks.count().id_odsp)\n",
    "print(\"Number of goals from free kicks: \", free_kick_goals.count().id_odsp)\n",
    "print(\"Free kick efficiency: \", round((free_kick_goals.count().id_odsp) / (lionel_messi_free_kicks.count().id_odsp), 4))"
   ]
  },
  {
   "cell_type": "markdown",
   "metadata": {},
   "source": [
    "However, when it comes to free-kicks, Leo's record isn't very impressive, having converted only 14 of the 86 free-kicks that he has attempted (efficiency of **16.2%**)."
   ]
  },
  {
   "cell_type": "markdown",
   "metadata": {},
   "source": [
    "#### 4. Assists and Partnerships"
   ]
  },
  {
   "cell_type": "markdown",
   "metadata": {},
   "source": [
    "Football, being a team sport invloves players assisting their teammates as well as being assisted by teammates to win games.\n",
    "\n",
    "Therefore, let's see what percentage of goals scored by Leo were assisted by a teammate and who are his best partners in scoring goals."
   ]
  },
  {
   "cell_type": "code",
   "execution_count": 17,
   "metadata": {},
   "outputs": [
    {
     "name": "stdout",
     "output_type": "stream",
     "text": [
      "\n",
      "Percentage of assisted goals:  65.3659\n",
      "\n",
      "Partnerships:\n"
     ]
    },
    {
     "data": {
      "image/png": "[encoded data removed]",
      "text/plain": [
       "<Figure size 432x288 with 1 Axes>"
      ]
     },
     "metadata": {
      "needs_background": "light"
     },
     "output_type": "display_data"
    }
   ],
   "source": [
    "# Goals from assists\n",
    "goals_from_assists = lionel_messi_goals.loc[lionel_messi_goals[\"assist_method\"]!=\"None\"]\n",
    "print(\"\\nPercentage of assisted goals: \", round(100*((goals_from_assists.count().id_odsp)/(lionel_messi_goals.count().id_odsp)), 4))\n",
    "\n",
    "# Partnerships\n",
    "print(\"\\nPartnerships:\")\n",
    "\n",
    "# Top assisters\n",
    "assisters = lionel_messi_goals.groupby(\"player2\").count().id_odsp.sort_values(ascending=False).head(10).reset_index()\n",
    "plt.barh(assisters[\"player2\"], assisters[\"id_odsp\"])\n",
    "plt.title(\"Top assisters\")\n",
    "plt.xlabel(\"Player Name\")\n",
    "plt.ylabel(\"Number of Goals Scored\")\n",
    "plt.show()"
   ]
  },
  {
   "cell_type": "markdown",
   "metadata": {},
   "source": [
    "Hence, **65.36% of goals scored** by Lionel Messi were assisted by his teammates, meaning that Leo combines well with his teammates to create as many chances as possible and score as many goals as possible.\n",
    "\n",
    "This was seen clearly when FC Barcelona dominated world football having Leo, Iniesta and Xavi on their team, with the three combining together to craft deadly plays and give the opponents nightmares. After the departure of Xavi and Iniesta from FC Barcelona, we saw something similar during the MSN era, with the front 3 of Messi, Suarez and Neymar combining in front of goal in a deadly fashion."
   ]
  },
  {
   "cell_type": "code",
   "execution_count": 18,
   "metadata": {},
   "outputs": [
    {
     "data": {
      "image/png": "[encoded data removed]",
      "text/plain": [
       "<Figure size 432x288 with 1 Axes>"
      ]
     },
     "metadata": {
      "needs_background": "light"
     },
     "output_type": "display_data"
    }
   ],
   "source": [
    "# Top assists\n",
    "lionel_messi_assists = events_data.loc[(events_data[\"assist_method\"]!=\"None\") & (events_data[\"is_goal\"]==1) & (events_data[\"player2\"]==\"lionel messi\")]\n",
    "assists = lionel_messi_assists.groupby(\"player\").count().id_odsp.sort_values(ascending=False).head(10).reset_index()\n",
    "plt.barh(assists[\"player\"], assists[\"id_odsp\"])\n",
    "plt.title(\"Top assists\")\n",
    "plt.xlabel(\"Player Name\")\n",
    "plt.ylabel(\"Number of Goals Scored\")\n",
    "plt.show()"
   ]
  },
  {
   "cell_type": "markdown",
   "metadata": {},
   "source": [
    "It is evident from the above 2 bar plots that Leo partners up well with **Luis Suarez**, **Neymar** and **Andres Iniesta**. This could be a great point which influences where Leo could be headed next in case he chooses to leave FC Barcelona and look for a new club.\n",
    "\n",
    "Reuniting with Luis Suarez at Atletico Madrid under fellow Argentine manager Diego Simone, or with Neymar at PSG, that is the question."
   ]
  },
  {
   "cell_type": "markdown",
   "metadata": {},
   "source": [
    "---"
   ]
  },
  {
   "cell_type": "markdown",
   "metadata": {},
   "source": [
    "## Machine Learning Model for Expected Goals (xGoals)"
   ]
  },
  {
   "cell_type": "markdown",
   "metadata": {},
   "source": [
    "Next, I have taken a probabilistic approach in order to predict the expected goals for a player based on the detailed data available in the football events dataset. The main objective of this part of the project is to calculate the probability of an attempt being a goal based on the data avialable reagrding the particular attempt.\n",
    "\n",
    "In the *events_data* DataFrame created above by joining the *events* and *ginf* datasets, the *is_goal* column indicates whether the attempt made by a player resulted in a goal. A value of 1 for the *is_goal* column denotes a goal being scored, whereas 0 signifies no goal.\n",
    "\n",
    "Using a simple machine learning algorithm, Logistic Regression, I will be calculating to probability of an attempt being a goal. Logistic Regression uses the sigmoid function to calculate the probability value for each record of the dataset. Calculating a probability value for the column *is_goal* based on available data will give us the probability of an attempt being a goal. Finally, summing up all probability values predicted by the Logistic Regression model will give us the number of goals a player is expected to score, given the conditions in which the attempt was made.\n",
    "\n",
    "The value of expected goals can then be compared to the value of actual goals scored by a player to evaluate the player's performance in front of goal."
   ]
  },
  {
   "cell_type": "markdown",
   "metadata": {},
   "source": [
    "### Importing required libraries"
   ]
  },
  {
   "cell_type": "code",
   "execution_count": 19,
   "metadata": {},
   "outputs": [],
   "source": [
    "from sklearn.linear_model import LogisticRegression\n",
    "from sklearn.model_selection import train_test_split\n",
    "from sklearn.metrics import accuracy_score, confusion_matrix, classification_report, roc_auc_score, plot_roc_curve"
   ]
  },
  {
   "cell_type": "markdown",
   "metadata": {},
   "source": [
    "### Dataset preparation"
   ]
  },
  {
   "cell_type": "markdown",
   "metadata": {},
   "source": [
    "The column *event_type* records the type of event for each events detailed in the dataset, such as *attempt*, *corner* and *foul*. I have filtered the DataFrame *events_data* into the DataFrame *shots* to include only records about attempts made at goal. The *shots* DataFrame will be used to train the Logistic Regression model.\n",
    "\n",
    "The columns *location*, *bodypart*, *assist_method*, *situation* and *shot_place* contain categorical values to describe the attempt in a detailed manner. These columns have been converted to dummies using the *get_dummies()* function to encode the categorical values into numerical values before training the Logistic Regression model.\n",
    "\n",
    "The *is_goal* column is the target column (Y) and all other columns are used as data columns (X)."
   ]
  },
  {
   "cell_type": "code",
   "execution_count": 20,
   "metadata": {},
   "outputs": [],
   "source": [
    "shots = events.loc[events[\"event_type\"]==1]\n",
    "shot_predictions = shots.iloc[:, [14, 16, 17, 18, 19, 20, 21]]\n",
    "shot_predictions = pd.get_dummies(shot_predictions, columns=['location', 'bodypart','assist_method', 'situation', 'shot_place'])\n",
    "shot_predictions.columns = ['is_goal', 'fast_break', 'loc_centre_box', 'loc_diff_angle_lr', 'diff_angle_left', 'diff_angle_right', 'left_side_box', 'left_side_6ybox', 'right_side_box', 'right_side_6ybox', 'close_range', 'penalty', 'outside_box', 'long_range', 'more_35y', 'more_40y', 'not_recorded', 'right_foot', 'left_foot', 'header', 'no_assist', 'assist_pass', 'assist_cross', 'assist_header', 'assist_through_ball', 'open_play', 'set_piece', 'corner', 'free_kick', 'bit_too_high', 'blocked', 'bottom_left', 'bottom_right', 'centre', 'high_wide', 'bar', 'miss_left', 'miss_right', 'too_high', 'top_centre', 'top_left', 'top_right']\n",
    "\n",
    "# Target and data columns\n",
    "X = shot_predictions.iloc[:, 1:]\n",
    "Y = shot_predictions.iloc[:, 0]\n",
    "\n",
    "# Split dataset into training and testing dataset\n",
    "X_train, X_test, Y_train, Y_test = train_test_split(X, Y, test_size=0.20, random_state=1)"
   ]
  },
  {
   "cell_type": "markdown",
   "metadata": {},
   "source": [
    "### Building xGoals Model using Logistics Regression"
   ]
  },
  {
   "cell_type": "markdown",
   "metadata": {},
   "source": [
    "As stated above, Logistic Regression uses the sigmoid function to calculate a probability value for each record of the dataset. This will be the best choice as we want to calculate the probability of an attempt resulting in a goal in order to calculate a value for expected goals. Hence, a Logistic Regression model is used for training and prediction."
   ]
  },
  {
   "cell_type": "code",
   "execution_count": 21,
   "metadata": {},
   "outputs": [],
   "source": [
    "# Training and predictong using logistic regression model\n",
    "xgmodel = LogisticRegression()\n",
    "xgmodel.fit(X_train, Y_train)\n",
    "Y_pred = xgmodel.predict(X_test)\n",
    "Y_pred_prob = xgmodel.predict_proba(X_test)"
   ]
  },
  {
   "cell_type": "markdown",
   "metadata": {},
   "source": [
    "#### Accuracy and Performance Metrics"
   ]
  },
  {
   "cell_type": "code",
   "execution_count": 22,
   "metadata": {},
   "outputs": [
    {
     "name": "stdout",
     "output_type": "stream",
     "text": [
      "\n",
      "Accuracy:  93.85\n",
      "\n",
      "ROC-AUC Score:  0.9648\n"
     ]
    },
    {
     "data": {
      "text/plain": [
       "<sklearn.metrics._plot.roc_curve.RocCurveDisplay at 0x227b02554c8>"
      ]
     },
     "execution_count": 22,
     "metadata": {},
     "output_type": "execute_result"
    },
    {
     "data": {
      "image/png": "[encoded data removed]",
      "text/plain": [
       "<Figure size 432x288 with 1 Axes>"
      ]
     },
     "metadata": {
      "needs_background": "light"
     },
     "output_type": "display_data"
    }
   ],
   "source": [
    "# Accuracy\n",
    "accuracy = accuracy_score(Y_test, Y_pred)\n",
    "print(\"\\nAccuracy: \", round(100*accuracy, 2))\n",
    "\n",
    "# ROC-AUC score\n",
    "roc_auc = roc_auc_score(Y_test, Y_pred_prob[:, 1])\n",
    "print(\"\\nROC-AUC Score: \", round(roc_auc, 4))\n",
    "\n",
    "# Plot ROC-AUC curve\n",
    "plot_roc_curve(xgmodel, X_test, Y_test)"
   ]
  },
  {
   "cell_type": "markdown",
   "metadata": {},
   "source": [
    "As we can see, the model obtains an **accuracy of 93.85%** with and **ROC-AUC Score of 0.9648**, meanong that the model is doing its job well in predicting 0's as 0's and 1's as 1's. Therefore, this model for expected goals has fairly high accuracy and can be used for calculating the value for expected goals."
   ]
  },
  {
   "cell_type": "code",
   "execution_count": 23,
   "metadata": {},
   "outputs": [
    {
     "name": "stdout",
     "output_type": "stream",
     "text": [
      "\n",
      "Confusion Matrix: \n",
      " [[40086   901]\n",
      " [ 1917  2923]]\n"
     ]
    }
   ],
   "source": [
    "# Confusion matrix\n",
    "CM = confusion_matrix(Y_test, Y_pred)\n",
    "print(\"\\nConfusion Matrix: \\n\", CM)"
   ]
  },
  {
   "cell_type": "code",
   "execution_count": 24,
   "metadata": {},
   "outputs": [
    {
     "name": "stdout",
     "output_type": "stream",
     "text": [
      "\n",
      "Classification Report: \n",
      "               precision    recall  f1-score   support\n",
      "\n",
      "           0       0.95      0.98      0.97     40987\n",
      "           1       0.76      0.60      0.67      4840\n",
      "\n",
      "    accuracy                           0.94     45827\n",
      "   macro avg       0.86      0.79      0.82     45827\n",
      "weighted avg       0.93      0.94      0.94     45827\n",
      "\n"
     ]
    }
   ],
   "source": [
    "# Classification report\n",
    "report = classification_report(Y_test, Y_pred)\n",
    "print(\"\\nClassification Report: \\n\", report)"
   ]
  },
  {
   "cell_type": "markdown",
   "metadata": {},
   "source": [
    "#### Columns for Expected Goals and Difference"
   ]
  },
  {
   "cell_type": "markdown",
   "metadata": {},
   "source": [
    "Next, I have created a new DataFrame *goals* which contains the values for expected goals, actual goals as well as the difference between actual and expected goals. The value for the column *expected* in the *goals* DataFrame is predicted using the Logistic Regression model trained above."
   ]
  },
  {
   "cell_type": "code",
   "execution_count": 25,
   "metadata": {},
   "outputs": [],
   "source": [
    "xgoals = xgmodel.predict_proba(X)\n",
    "goals = X.copy()\n",
    "goals[\"actual\"] = Y\n",
    "goals[\"expected\"] = xgoals[:, 1]\n",
    "goals[\"difference\"] = goals[\"expected\"] - goals[\"actual\"]\n",
    "goals = goals.iloc[:, 40:44]\n",
    "goals = pd.concat([events, goals], axis=1)"
   ]
  },
  {
   "cell_type": "markdown",
   "metadata": {},
   "source": [
    "#### Expected vs Actual Goals for Lionel Messi"
   ]
  },
  {
   "cell_type": "markdown",
   "metadata": {},
   "source": [
    "Teh following code cell filters the *goals* DataFrame to include only events where Lionel Messi is the main player involved. The value for expected goals to be scored by Lionel Messi is calculated by summing up the values in the column *expected*. Similarly, the value for actual goals scored by Leo is calculated by summing the values in the column *actual*. Let's take alook at the difference between these 2 values."
   ]
  },
  {
   "cell_type": "code",
   "execution_count": 26,
   "metadata": {},
   "outputs": [
    {
     "name": "stdout",
     "output_type": "stream",
     "text": [
      "\n",
      "Expected:  170.1114\n",
      "Actual:  205.0\n",
      "Difference:  34.8886\n"
     ]
    }
   ],
   "source": [
    "lionel_messi_goals = goals.loc[goals[\"player\"]==\"lionel messi\"]\n",
    "lionel_messi_xgoals = lionel_messi_goals.sum().expected\n",
    "lionel_messi_actual = lionel_messi_goals.sum().actual\n",
    "diff = lionel_messi_actual - lionel_messi_xgoals\n",
    "print(\"\\nExpected: \", round(lionel_messi_xgoals, 4))\n",
    "print(\"Actual: \", lionel_messi_actual)\n",
    "print(\"Difference: \", round(diff, 4))"
   ]
  },
  {
   "cell_type": "markdown",
   "metadata": {},
   "source": [
    "As we can see, Lionel Messi has scored **~35 more goals** than expected. An average footballer given the same opportunities and situations as Lionel Messi would have scored 170 goals on average. On the other hand, Leo actually scored 205. This indicates how Lionel Messi is an extraordinary goal scorer."
   ]
  },
  {
   "cell_type": "markdown",
   "metadata": {},
   "source": [
    "---"
   ]
  },
  {
   "cell_type": "markdown",
   "metadata": {},
   "source": [
    "## Future Prospects"
   ]
  },
  {
   "cell_type": "markdown",
   "metadata": {},
   "source": [
    "For the final part of this project, I have performed a basic anlysis for **Europe's top 5 football leagues** to see where Lionel Messi could be headed next in case of a departure from FC Barcelona. I have provided my own verdict on which club would be the best next destination for Leo based on how well he fits at the club.\n",
    "\n",
    "First, I have collected data about **league points** for each of the top 5 European leagues from **2004-2018**. Based on this points data, I have calculated the **average point difference** between 2 consecutive teams in each league. I have used these values as a measure of the **degree of competition** in each league. It can be said that the higher the average point difference, the less competitive that league is."
   ]
  },
  {
   "cell_type": "markdown",
   "metadata": {},
   "source": [
    "### League Points Datasets"
   ]
  },
  {
   "cell_type": "code",
   "execution_count": 27,
   "metadata": {},
   "outputs": [],
   "source": [
    "bundesliga_points = pd.read_csv(\"Data/bundesliga_points.csv\")\n",
    "laliga_points = pd.read_csv(\"Data/laliga_points.csv\")\n",
    "ligue1_points = pd.read_csv(\"Data/ligue1_points.csv\")\n",
    "premierleague_points = pd.read_csv(\"Data/premierleague_points.csv\")\n",
    "seriea_points = pd.read_csv(\"Data/seriea_points.csv\")"
   ]
  },
  {
   "cell_type": "markdown",
   "metadata": {},
   "source": [
    "### Average point difference between teams in Europe's Top 5 leagues"
   ]
  },
  {
   "cell_type": "code",
   "execution_count": 28,
   "metadata": {},
   "outputs": [],
   "source": [
    "# Function to calculate average points difference between consecutive teams\n",
    "def average_point_difference(points):\n",
    "    points = points.values.tolist()\n",
    "    diff = []\n",
    "    for i in range(len(points)-1):\n",
    "        diff.append(np.array(points[i])-np.array(points[i+1]))\n",
    "    diff = np.matrix(diff)\n",
    "    avg_pd = np.sum(diff)/np.prod(diff.shape)\n",
    "    return round(avg_pd, 4)"
   ]
  },
  {
   "cell_type": "markdown",
   "metadata": {},
   "source": [
    "### Determining league competition based on average point difference"
   ]
  },
  {
   "cell_type": "code",
   "execution_count": 29,
   "metadata": {},
   "outputs": [
    {
     "name": "stdout",
     "output_type": "stream",
     "text": [
      "\n",
      "Averge point difference (2004-2018)\n",
      "\n",
      "Bundesliga:  3.1882\n",
      "\n",
      "La Liga:  3.3123\n",
      "\n",
      "Ligue 1:  3.0211\n",
      "\n",
      "Premier League:  3.414\n",
      "\n",
      "Serie A:  3.414\n"
     ]
    }
   ],
   "source": [
    "print(\"\\nAverge point difference (2004-2018)\")\n",
    "\n",
    "# Bundesliga\n",
    "print(\"\\nBundesliga: \", average_point_difference(bundesliga_points))\n",
    "# La liga\n",
    "print(\"\\nLa Liga: \", average_point_difference(laliga_points))\n",
    "# Ligue 1\n",
    "print(\"\\nLigue 1: \", average_point_difference(ligue1_points))\n",
    "# Premier League\n",
    "print(\"\\nPremier League: \", average_point_difference(premierleague_points))\n",
    "# Serie A\n",
    "print(\"\\nSerie A: \", average_point_difference(seriea_points))"
   ]
  },
  {
   "cell_type": "markdown",
   "metadata": {},
   "source": [
    "According to the results from the above analysis, it can be said that **Ligue 1 (France)** is the most competitive league in Europe with an average difference of **3.02 points** between 2 consecutive teams. But we know how PSG and AS Monaco dominate Ligue 1, running way ahead of other teams in the league in terms of points. However, the result maybe due to the lower placed teams having very less difference in points.\n",
    "\n",
    "The least competitive leagues are **Premier League (England)** and **Serie A (Italy)** with an average point difference of **3.41** points between teams. A high points difference in Premier League teams may be attributed to the fact that teams are distributed quite uniformly in terms of points, making PL the most exciting league among the 5. Serie A mimcks Ligue 1 with Juventus, Inter Milan and AC Milan dominating the league."
   ]
  },
  {
   "cell_type": "markdown",
   "metadata": {},
   "source": [
    "### Analysing Europe's Top 5 Leagues"
   ]
  },
  {
   "cell_type": "markdown",
   "metadata": {},
   "source": [
    "Let's now analyse each league individually to gain more understanding about the leagues."
   ]
  },
  {
   "cell_type": "markdown",
   "metadata": {},
   "source": [
    "![Europe's Top 5 Leagues](Images/europe-top-five-leagues.jpg)"
   ]
  },
  {
   "cell_type": "markdown",
   "metadata": {},
   "source": [
    "#### Filtering events data for each league"
   ]
  },
  {
   "cell_type": "markdown",
   "metadata": {},
   "source": [
    "In the following code cell, I have filtered the DataFrame *events_data* into 5 distinct DataFrame for each of the 5 leagues based on the *country* column."
   ]
  },
  {
   "cell_type": "code",
   "execution_count": 30,
   "metadata": {},
   "outputs": [],
   "source": [
    "# Creating a new column for goals scored per match\n",
    "events_data[\"goals_scored\"] = events_data[\"fthg\"] + events_data[\"ftag\"]\n",
    "\n",
    "# Filtering events data for 5 major European leagues\n",
    "bundesliga = events_data.loc[events_data[\"country\"]==\"germany\"]\n",
    "laliga = events_data.loc[events_data[\"country\"]==\"spain\"]\n",
    "ligue1 = events_data.loc[events_data[\"country\"]==\"france\"]\n",
    "premierleague = events_data.loc[events_data[\"country\"]==\"england\"]\n",
    "seriea = events_data.loc[events_data[\"country\"]==\"italy\"]"
   ]
  },
  {
   "cell_type": "markdown",
   "metadata": {},
   "source": [
    "#### Match-wise data"
   ]
  },
  {
   "cell_type": "code",
   "execution_count": 31,
   "metadata": {},
   "outputs": [],
   "source": [
    "# Grouping data match-wise for each league\n",
    "bundesliga_matches = bundesliga.groupby([\"id_odsp\", \"season\"])[\"is_goal\"].sum().reset_index()   \n",
    "laliga_matches = laliga.groupby([\"id_odsp\", \"season\"])[\"is_goal\"].sum().reset_index()\n",
    "ligue1_matches = ligue1.groupby([\"id_odsp\", \"season\"])[\"is_goal\"].sum().reset_index()\n",
    "premierleague_matches = premierleague.groupby([\"id_odsp\", \"season\"])[\"is_goal\"].sum().reset_index()\n",
    "seriea_matches = seriea.groupby([\"id_odsp\", \"season\"])[\"is_goal\"].sum().reset_index()"
   ]
  },
  {
   "cell_type": "markdown",
   "metadata": {},
   "source": [
    "#### Average Goals per Game (GPG) for each league"
   ]
  },
  {
   "cell_type": "markdown",
   "metadata": {},
   "source": [
    "Next, I have calculated the average Goals per Game for each league, in the same way as done before, in order to see which league is most similar to La Liga in terms of goal scoring."
   ]
  },
  {
   "cell_type": "code",
   "execution_count": 32,
   "metadata": {},
   "outputs": [],
   "source": [
    "# Filtering goals for each league\n",
    "bundesliga_goals = bundesliga.loc[bundesliga[\"is_goal\"]==1]\n",
    "laliga_goals = laliga.loc[laliga[\"is_goal\"]==1]\n",
    "ligue1_goals = ligue1.loc[ligue1[\"is_goal\"]==1]\n",
    "premierleague_goals = premierleague.loc[premierleague[\"is_goal\"]==1]\n",
    "seriea_goals = seriea.loc[seriea[\"is_goal\"]==1]"
   ]
  },
  {
   "cell_type": "code",
   "execution_count": 33,
   "metadata": {},
   "outputs": [
    {
     "name": "stdout",
     "output_type": "stream",
     "text": [
      "Average goals-per-game for Europe's 5 major leagues\n",
      "Bundesliga:  2.8739\n",
      "La Liga:  2.7742\n",
      "Ligue 1:  2.5187\n",
      "Premier League:  2.7382\n",
      "Serie A:  2.6521\n"
     ]
    }
   ],
   "source": [
    "# GPG for each major European league\n",
    "print(\"Average goals-per-game for Europe's 5 major leagues\")\n",
    "\n",
    "# Bundesliga\n",
    "print(\"Bundesliga: \", round(bundesliga.goals_scored.mean(), 4))\n",
    "# La Liga\n",
    "print(\"La Liga: \", round(laliga.goals_scored.mean(), 4))\n",
    "# Ligue 1\n",
    "print(\"Ligue 1: \", round(ligue1.goals_scored.mean(), 4))\n",
    "# Premier League\n",
    "print(\"Premier League: \", round(premierleague.goals_scored.mean(), 4))\n",
    "# Serie A\n",
    "print(\"Serie A: \", round(seriea.goals_scored.mean(), 4))"
   ]
  },
  {
   "cell_type": "markdown",
   "metadata": {},
   "source": [
    "The average Goals per Game (GPG) for **La Liga** is **2.77** and on average, **2.73** goals are scored in a **Premier League** match. This m,eans that La Liga and Premier League are very much similar in terms of goals scored per match. Hence, it can be said that Leo would get a similar goal scoring environment in England as he gets in Spain.\n",
    "\n",
    "**Bundesliga** is the highest scoring league with **2.87** goals per game meaning that Leo could also enjoy scoring more goals in Germany."
   ]
  },
  {
   "cell_type": "markdown",
   "metadata": {},
   "source": [
    "#### Average Penalties per Match"
   ]
  },
  {
   "cell_type": "markdown",
   "metadata": {},
   "source": [
    "We saw above how Leo converts 81% of the penalties he attempts. Therefore, let's now see the average penalties per match in each of the 5 leagues."
   ]
  },
  {
   "cell_type": "code",
   "execution_count": 34,
   "metadata": {},
   "outputs": [
    {
     "name": "stdout",
     "output_type": "stream",
     "text": [
      "\n",
      "Average number of penalties per match\n",
      "Bundesliga:  0.2473\n",
      "La Liga:  0.2743\n",
      "Ligue 1:  0.2776\n",
      "Premier League:  0.1505\n",
      "Serie A:  0.3329\n"
     ]
    }
   ],
   "source": [
    "# Penalties for each league\n",
    "print(\"\\nAverage number of penalties per match\")\n",
    "\n",
    "# Bundesliga\n",
    "print(\"Bundesliga: \", round(bundesliga.loc[bundesliga[\"location\"]==\"Penalty spot\"].id_odsp.count() / bundesliga_matches.id_odsp.count(), 4))\n",
    "# La Liga\n",
    "print(\"La Liga: \", round(laliga.loc[laliga[\"location\"]==\"Penalty spot\"].id_odsp.count() / laliga_matches.id_odsp.count(), 4))\n",
    "# Ligue 1\n",
    "print(\"Ligue 1: \", round(ligue1.loc[ligue1[\"location\"]==\"Penalty spot\"].id_odsp.count() / ligue1_matches.id_odsp.count(), 4))\n",
    "# Premier League\n",
    "print(\"Premier League: \", round(premierleague.loc[premierleague[\"location\"]==\"Penalty spot\"].id_odsp.count() / premierleague_matches.id_odsp.count(), 4))\n",
    "# Serie A\n",
    "print(\"Serie A: \", round(seriea.loc[seriea[\"location\"]==\"Penalty spot\"].id_odsp.count() / seriea_matches.id_odsp.count(), 4))"
   ]
  },
  {
   "cell_type": "markdown",
   "metadata": {},
   "source": [
    "On average, the most number of penalties are given away in **Serie A**, while **Premier League** comes out as the **cleanest league** giving away the least penalties. Moving to a league with a higher value for average penalties per match may be a good choice for Lionel Messi in order to continue scoring more and more goals."
   ]
  },
  {
   "cell_type": "markdown",
   "metadata": {},
   "source": [
    "#### Average Free kicks per Match"
   ]
  },
  {
   "cell_type": "code",
   "execution_count": 35,
   "metadata": {},
   "outputs": [
    {
     "name": "stdout",
     "output_type": "stream",
     "text": [
      "\n",
      "Average number of free kicks per match\n",
      "Bundesliga:  0.5805\n",
      "La Liga:  0.5653\n",
      "Ligue 1:  0.5918\n",
      "Premier League:  0.2995\n",
      "Serie A:  0.6543\n"
     ]
    }
   ],
   "source": [
    "# Free kicks for each league\n",
    "print(\"\\nAverage number of free kicks per match\")\n",
    "\n",
    "# Bundesliga\n",
    "print(\"Bundesliga: \", round(bundesliga.loc[bundesliga[\"situation\"]==\"Free kick\"].id_odsp.count() / bundesliga_matches.id_odsp.count(), 4))\n",
    "# La Liga\n",
    "print(\"La Liga: \", round(laliga.loc[laliga[\"situation\"]==\"Free kick\"].id_odsp.count() / laliga_matches.id_odsp.count(), 4))\n",
    "# Ligue 1\n",
    "print(\"Ligue 1: \", round(ligue1.loc[ligue1[\"situation\"]==\"Free kick\"].id_odsp.count() / ligue1_matches.id_odsp.count(), 4))\n",
    "# Premier League\n",
    "print(\"Premier League: \", round(premierleague.loc[premierleague[\"situation\"]==\"Free kick\"].id_odsp.count() / premierleague_matches.id_odsp.count(), 4))\n",
    "# Serie A\n",
    "print(\"Serie A: \", round(seriea.loc[seriea[\"situation\"]==\"Free kick\"].id_odsp.count() / seriea_matches.id_odsp.count(), 4))"
   ]
  },
  {
   "cell_type": "markdown",
   "metadata": {},
   "source": [
    "#### Top Assisters"
   ]
  },
  {
   "cell_type": "markdown",
   "metadata": {},
   "source": [
    "The next few bar plots show the players with the highest number of assists in each league."
   ]
  },
  {
   "cell_type": "markdown",
   "metadata": {},
   "source": [
    "##### 1. Bundesliga"
   ]
  },
  {
   "cell_type": "code",
   "execution_count": 36,
   "metadata": {},
   "outputs": [
    {
     "data": {
      "image/png": "[encoded data removed]",
      "text/plain": [
       "<Figure size 432x288 with 1 Axes>"
      ]
     },
     "metadata": {
      "needs_background": "light"
     },
     "output_type": "display_data"
    }
   ],
   "source": [
    "bundesliga_assisters = bundesliga_goals.groupby(\"player2\").count().id_odsp.sort_values(ascending=False).head(10).reset_index()\n",
    "plt.barh(bundesliga_assisters[\"player2\"], bundesliga_assisters[\"id_odsp\"])\n",
    "plt.title(\"Top assisters\")\n",
    "plt.xlabel(\"Player Name\")\n",
    "plt.ylabel(\"Number of Goals Scored\")\n",
    "plt.show()"
   ]
  },
  {
   "cell_type": "markdown",
   "metadata": {},
   "source": [
    "##### 2. La Liga"
   ]
  },
  {
   "cell_type": "code",
   "execution_count": 37,
   "metadata": {},
   "outputs": [
    {
     "data": {
      "image/png": "[encoded data removed]",
      "text/plain": [
       "<Figure size 432x288 with 1 Axes>"
      ]
     },
     "metadata": {
      "needs_background": "light"
     },
     "output_type": "display_data"
    }
   ],
   "source": [
    "laliga_assisters = laliga_goals.groupby(\"player2\").count().id_odsp.sort_values(ascending=False).head(10).reset_index()\n",
    "plt.barh(laliga_assisters[\"player2\"], laliga_assisters[\"id_odsp\"])\n",
    "plt.title(\"Top assisters\")\n",
    "plt.xlabel(\"Player Name\")\n",
    "plt.ylabel(\"Number of Goals Scored\")\n",
    "plt.show()"
   ]
  },
  {
   "cell_type": "markdown",
   "metadata": {},
   "source": [
    "##### 3. Ligue 1"
   ]
  },
  {
   "cell_type": "code",
   "execution_count": 38,
   "metadata": {},
   "outputs": [
    {
     "data": {
      "image/png": "[encoded data removed]",
      "text/plain": [
       "<Figure size 432x288 with 1 Axes>"
      ]
     },
     "metadata": {
      "needs_background": "light"
     },
     "output_type": "display_data"
    }
   ],
   "source": [
    "ligue1_assisters = ligue1_goals.groupby(\"player2\").count().id_odsp.sort_values(ascending=False).head(10).reset_index()\n",
    "plt.barh(ligue1_assisters[\"player2\"], ligue1_assisters[\"id_odsp\"])\n",
    "plt.title(\"Top assisters\")\n",
    "plt.xlabel(\"Player Name\")\n",
    "plt.ylabel(\"Number of Goals Scored\")\n",
    "plt.show()"
   ]
  },
  {
   "cell_type": "markdown",
   "metadata": {},
   "source": [
    "##### 4. Premier League"
   ]
  },
  {
   "cell_type": "code",
   "execution_count": 39,
   "metadata": {},
   "outputs": [
    {
     "data": {
      "image/png": "[encoded data removed]",
      "text/plain": [
       "<Figure size 432x288 with 1 Axes>"
      ]
     },
     "metadata": {
      "needs_background": "light"
     },
     "output_type": "display_data"
    }
   ],
   "source": [
    "premierleague_assisters = premierleague_goals.groupby(\"player2\").count().id_odsp.sort_values(ascending=False).head(10).reset_index()\n",
    "plt.barh(premierleague_assisters[\"player2\"], premierleague_assisters[\"id_odsp\"])\n",
    "plt.title(\"Top assisters\")\n",
    "plt.xlabel(\"Player Name\")\n",
    "plt.ylabel(\"Number of Goals Scored\")\n",
    "plt.show()"
   ]
  },
  {
   "cell_type": "markdown",
   "metadata": {},
   "source": [
    "##### 5. Serie A"
   ]
  },
  {
   "cell_type": "code",
   "execution_count": 40,
   "metadata": {},
   "outputs": [
    {
     "data": {
      "image/png": "[encoded data removed]",
      "text/plain": [
       "<Figure size 432x288 with 1 Axes>"
      ]
     },
     "metadata": {
      "needs_background": "light"
     },
     "output_type": "display_data"
    }
   ],
   "source": [
    "seriea_assisters = seriea_goals.groupby(\"player2\").count().id_odsp.sort_values(ascending=False).head(10).reset_index()\n",
    "plt.barh(seriea_assisters[\"player2\"], seriea_assisters[\"id_odsp\"])\n",
    "plt.title(\"Top assisters\")\n",
    "plt.xlabel(\"Player Name\")\n",
    "plt.ylabel(\"Number of Goals Scored\")\n",
    "plt.show()"
   ]
  },
  {
   "cell_type": "markdown",
   "metadata": {},
   "source": [
    "### Next Club"
   ]
  },
  {
   "cell_type": "markdown",
   "metadata": {},
   "source": [
    "In this section I have provided my verdict on which club should Lionel Messi sign for next in case he chooses to leave FC Barcelona.\n",
    "\n",
    "I have taken into consideration the following clubs as possible next destinations for Leo:\n",
    "   1. Manchester City (Premier League)\n",
    "   2. Paris Saint-Germain (Ligue 1)\n",
    "   3. Bayern Munich (Bundesliga)\n",
    "   4. Juventus (Serie A)\n",
    "   5. Atletico Madrid (La Liga)"
   ]
  },
  {
   "cell_type": "markdown",
   "metadata": {},
   "source": [
    "#### 1. Manchester City"
   ]
  },
  {
   "cell_type": "markdown",
   "metadata": {},
   "source": [
    "![Manchester City](Images/manchester-city.png)"
   ]
  },
  {
   "cell_type": "markdown",
   "metadata": {},
   "source": [
    "We've seen how Guardiola's Barcelona dominated La Liga with Messi consistently being their star. In a similar fashion, Manchester City has dominated the Prem for the last few seasons, finishing the 2017-18 season with a record-breaking 100 points. Guardiola and Messi coming together once again at City would be really exciting.\n",
    "\n",
    "With top-notch assisters such as Kevin De Bruyne and Bernardo Silva as well as fellow Argentine Sergio Aguero, Manchester City appears to be the best club for Messi to sign for next. Playing at City in the Premier League guarantees Leo a UCL spot and makes City even stronger contenders for the Premeir League title.\n",
    "\n",
    "We saw above, the average Goals per Game for the Premier League is 2.73, which makes it a high-scoring league. Leo playing at City means that we could see a lot more goals from La Pulga. However, Leo may not get to take as many penalties and free kicks as he does in La Liga (avg penalties per game: 0.15; avg free-kicks per game: 0.29)."
   ]
  },
  {
   "cell_type": "markdown",
   "metadata": {},
   "source": [
    "#### 2. Paris Saint-Germain"
   ]
  },
  {
   "cell_type": "markdown",
   "metadata": {},
   "source": [
    "![Paris Saint-Germain](Images/psg.jfif)"
   ]
  },
  {
   "cell_type": "markdown",
   "metadata": {},
   "source": [
    "PSG, owned by Qatar Sports Investments, are one of the richest clubs in the world, meaning that they are one of the few teams that have the financial power required to purchase Lionel Messi.\n",
    "\n",
    "Playing at PSG could put Lionel Messi at the center of a deadly front three - Kylian Mbappe, Lionel Messi and former Barcelona teammate Neymar. Fellow Argentine Angel Di Maria also plays at PSG, which means Leo could fit in well at PSG.\n",
    "\n",
    "Average number of penalties and free-kicks per match are also nearly similar for La Liga and Ligue 1, meaning Leo would get a similar number of chances to score from spot kicks.\n",
    "\n",
    "However, PSG may not be the first choice for next club, being beaten by Manchester City. Ligue 1 is not as competitive as Premier League, often called \"Farmers' League\". Still at the top of his game, Manchester City would be a better move for Leo to continue his career and compete at the topmost level."
   ]
  },
  {
   "cell_type": "markdown",
   "metadata": {},
   "source": [
    "#### 3. Bayern Munich"
   ]
  },
  {
   "cell_type": "markdown",
   "metadata": {},
   "source": [
    "![Bayern Munich](Images/bayern-munich.png)"
   ]
  },
  {
   "cell_type": "markdown",
   "metadata": {},
   "source": [
    "Bayern Munich has been the top club in Germany for as long as we know. Regularly competing in the UCL and winning the Bundesliga will be guaranteed to Leo should he choose to sign for Bayern Munich. Bundesliga is also the highest scoring league among the 5, with an average of 2.87 Goals per Game. A high scoring league such as Bundesliga, as well as a high scoring team such as Bayern Munich would be a good choice for Leo.\n",
    "\n",
    "However, Messi may not adapt well to the German style of play, having played Barcelona's tiki-taka for all of his career. This makes Bayern rank 3rd in the best next club for Leo."
   ]
  },
  {
   "cell_type": "markdown",
   "metadata": {},
   "source": [
    "#### 4. Juventus"
   ]
  },
  {
   "cell_type": "markdown",
   "metadata": {},
   "source": [
    "![Juventus](Images/juventus.png)"
   ]
  },
  {
   "cell_type": "markdown",
   "metadata": {},
   "source": [
    "Moving to Juventus would get CR7 and Leo in the same team for the very first time. However, Juventus may not have enough finances to purchase Leo.\n",
    "\n",
    "Joining Juventus could result in either of the following 2 things - Juventus being overpowered and dominating world football or Ronaldo and Messi clashing and not getting along well, competing to be the best in the world."
   ]
  },
  {
   "cell_type": "markdown",
   "metadata": {},
   "source": [
    "#### 5. Atletico Madrid"
   ]
  },
  {
   "cell_type": "markdown",
   "metadata": {},
   "source": [
    "![Atletico Madrid](Images/atletico-madrid.png)"
   ]
  },
  {
   "cell_type": "markdown",
   "metadata": {},
   "source": [
    "Atletico Madrid, with Argentine manager Diego Simone and former FC Barcelona teammate Luis Suarez would be a good choice for Lionel Messi if he chooses to stay in Spain's La Liga. Playing in the same league will do Leo good, without the stress of moving to a new country."
   ]
  },
  {
   "cell_type": "markdown",
   "metadata": {},
   "source": [
    "Other clubs such as Premier League's Liverpool and Manchester United, Serie A's Inter Milan, Japan's Vissel Kobe (where former FCB teammate Andres Iniesta currently plays) and Qatar's Al Sadd (managed by former Barca teammate Xavi) are good choices too, but a transfer to any of these teams is highly unlikely."
   ]
  }
 ],
 "metadata": {
  "kernelspec": {
   "display_name": "Python 3",
   "language": "python",
   "name": "python3"
  },
  "language_info": {
   "codemirror_mode": {
    "name": "ipython",
    "version": 3
   },
   "file_extension": ".py",
   "mimetype": "text/x-python",
   "name": "python",
   "nbconvert_exporter": "python",
   "pygments_lexer": "ipython3",
   "version": "3.7.4"
  }
 },
 "nbformat": 4,
 "nbformat_minor": 2
}
